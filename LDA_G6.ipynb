{
 "cells": [
  {
   "cell_type": "markdown",
   "metadata": {},
   "source": [
    "Explication des données"
   ]
  },
  {
   "cell_type": "markdown",
   "metadata": {},
   "source": [
    "Algorithme LDA"
   ]
  },
  {
   "cell_type": "markdown",
   "metadata": {},
   "source": [
    "### l'analyse discriminante linéaire permet d'expliquer et de prédire l'appartenance d’un individu à une classe (groupe) prédéfinie à partir de ses caractéristiques mesurées à l’aide de variables prédictives. c'est à dire diviser une matrice de réponse en groupes en fonction d’un facteur en trouvant la combinaison de variables qui donne la meilleure séparation possible entre les groupes."
   ]
  },
  {
   "cell_type": "markdown",
   "metadata": {},
   "source": [
    "### Ce modele permet de prédire quels sont individus les plus susceptibles d’avoir ou d’utiliser un compte bancaire sur certains pays d'afrique. Il permet de predire la disponibimté d'avoir un compte ou pas dans certain pays de l'afrique. \n"
   ]
  },
  {
   "cell_type": "markdown",
   "metadata": {},
   "source": [
    "Explication des données"
   ]
  },
  {
   "cell_type": "markdown",
   "metadata": {},
   "source": [
    "### Ces données sont composées : une liste de pays dont les études ont été fait, de l'années, de leurs locations, la disponibilité de compte banquaire, de leurs situation matrimoniale, de leur sexe, de leur niveau d'étude, du type de travail et de la disponiblté du telephone de portzble  "
   ]
  },
  {
   "cell_type": "markdown",
   "metadata": {},
   "source": [
    "importation des modules\n"
   ]
  },
  {
   "cell_type": "code",
   "execution_count": 1,
   "metadata": {},
   "outputs": [],
   "source": [
    "import pandas as pd \n",
    "import numpy as np \n",
    "from sklearn.model_selection import train_test_split\n",
    "from sklearn.linear_model import LogisticRegression\n",
    "from sklearn.metrics import accuracy_score\n",
    "from sklearn.discriminant_analysis import LinearDiscriminantAnalysis"
   ]
  },
  {
   "cell_type": "markdown",
   "metadata": {},
   "source": [
    "### 1. Load the dataset"
   ]
  },
  {
   "cell_type": "code",
   "execution_count": 2,
   "metadata": {},
   "outputs": [],
   "source": [
    "# Load files into a pandas dataframe\n",
    "train = pd.read_csv('Train.csv')\n",
    "test = pd.read_csv('Test.csv')"
   ]
  },
  {
   "cell_type": "code",
   "execution_count": 3,
   "metadata": {},
   "outputs": [
    {
     "data": {
      "text/html": [
       "<div>\n",
       "<style scoped>\n",
       "    .dataframe tbody tr th:only-of-type {\n",
       "        vertical-align: middle;\n",
       "    }\n",
       "\n",
       "    .dataframe tbody tr th {\n",
       "        vertical-align: top;\n",
       "    }\n",
       "\n",
       "    .dataframe thead th {\n",
       "        text-align: right;\n",
       "    }\n",
       "</style>\n",
       "<table border=\"1\" class=\"dataframe\">\n",
       "  <thead>\n",
       "    <tr style=\"text-align: right;\">\n",
       "      <th></th>\n",
       "      <th>country</th>\n",
       "      <th>year</th>\n",
       "      <th>uniqueid</th>\n",
       "      <th>bank_account</th>\n",
       "      <th>location_type</th>\n",
       "      <th>cellphone_access</th>\n",
       "      <th>household_size</th>\n",
       "      <th>age_of_respondent</th>\n",
       "      <th>gender_of_respondent</th>\n",
       "      <th>relationship_with_head</th>\n",
       "      <th>marital_status</th>\n",
       "      <th>education_level</th>\n",
       "      <th>job_type</th>\n",
       "    </tr>\n",
       "  </thead>\n",
       "  <tbody>\n",
       "    <tr>\n",
       "      <th>0</th>\n",
       "      <td>Kenya</td>\n",
       "      <td>2018</td>\n",
       "      <td>uniqueid_1</td>\n",
       "      <td>Yes</td>\n",
       "      <td>Rural</td>\n",
       "      <td>Yes</td>\n",
       "      <td>3</td>\n",
       "      <td>24</td>\n",
       "      <td>Female</td>\n",
       "      <td>Spouse</td>\n",
       "      <td>Married/Living together</td>\n",
       "      <td>Secondary education</td>\n",
       "      <td>Self employed</td>\n",
       "    </tr>\n",
       "    <tr>\n",
       "      <th>1</th>\n",
       "      <td>Kenya</td>\n",
       "      <td>2018</td>\n",
       "      <td>uniqueid_2</td>\n",
       "      <td>No</td>\n",
       "      <td>Rural</td>\n",
       "      <td>No</td>\n",
       "      <td>5</td>\n",
       "      <td>70</td>\n",
       "      <td>Female</td>\n",
       "      <td>Head of Household</td>\n",
       "      <td>Widowed</td>\n",
       "      <td>No formal education</td>\n",
       "      <td>Government Dependent</td>\n",
       "    </tr>\n",
       "    <tr>\n",
       "      <th>2</th>\n",
       "      <td>Kenya</td>\n",
       "      <td>2018</td>\n",
       "      <td>uniqueid_3</td>\n",
       "      <td>Yes</td>\n",
       "      <td>Urban</td>\n",
       "      <td>Yes</td>\n",
       "      <td>5</td>\n",
       "      <td>26</td>\n",
       "      <td>Male</td>\n",
       "      <td>Other relative</td>\n",
       "      <td>Single/Never Married</td>\n",
       "      <td>Vocational/Specialised training</td>\n",
       "      <td>Self employed</td>\n",
       "    </tr>\n",
       "    <tr>\n",
       "      <th>3</th>\n",
       "      <td>Kenya</td>\n",
       "      <td>2018</td>\n",
       "      <td>uniqueid_4</td>\n",
       "      <td>No</td>\n",
       "      <td>Rural</td>\n",
       "      <td>Yes</td>\n",
       "      <td>5</td>\n",
       "      <td>34</td>\n",
       "      <td>Female</td>\n",
       "      <td>Head of Household</td>\n",
       "      <td>Married/Living together</td>\n",
       "      <td>Primary education</td>\n",
       "      <td>Formally employed Private</td>\n",
       "    </tr>\n",
       "    <tr>\n",
       "      <th>4</th>\n",
       "      <td>Kenya</td>\n",
       "      <td>2018</td>\n",
       "      <td>uniqueid_5</td>\n",
       "      <td>No</td>\n",
       "      <td>Urban</td>\n",
       "      <td>No</td>\n",
       "      <td>8</td>\n",
       "      <td>26</td>\n",
       "      <td>Male</td>\n",
       "      <td>Child</td>\n",
       "      <td>Single/Never Married</td>\n",
       "      <td>Primary education</td>\n",
       "      <td>Informally employed</td>\n",
       "    </tr>\n",
       "    <tr>\n",
       "      <th>...</th>\n",
       "      <td>...</td>\n",
       "      <td>...</td>\n",
       "      <td>...</td>\n",
       "      <td>...</td>\n",
       "      <td>...</td>\n",
       "      <td>...</td>\n",
       "      <td>...</td>\n",
       "      <td>...</td>\n",
       "      <td>...</td>\n",
       "      <td>...</td>\n",
       "      <td>...</td>\n",
       "      <td>...</td>\n",
       "      <td>...</td>\n",
       "    </tr>\n",
       "    <tr>\n",
       "      <th>23519</th>\n",
       "      <td>Uganda</td>\n",
       "      <td>2018</td>\n",
       "      <td>uniqueid_2113</td>\n",
       "      <td>No</td>\n",
       "      <td>Rural</td>\n",
       "      <td>Yes</td>\n",
       "      <td>4</td>\n",
       "      <td>48</td>\n",
       "      <td>Female</td>\n",
       "      <td>Head of Household</td>\n",
       "      <td>Divorced/Seperated</td>\n",
       "      <td>No formal education</td>\n",
       "      <td>Other Income</td>\n",
       "    </tr>\n",
       "    <tr>\n",
       "      <th>23520</th>\n",
       "      <td>Uganda</td>\n",
       "      <td>2018</td>\n",
       "      <td>uniqueid_2114</td>\n",
       "      <td>No</td>\n",
       "      <td>Rural</td>\n",
       "      <td>Yes</td>\n",
       "      <td>2</td>\n",
       "      <td>27</td>\n",
       "      <td>Female</td>\n",
       "      <td>Head of Household</td>\n",
       "      <td>Single/Never Married</td>\n",
       "      <td>Secondary education</td>\n",
       "      <td>Other Income</td>\n",
       "    </tr>\n",
       "    <tr>\n",
       "      <th>23521</th>\n",
       "      <td>Uganda</td>\n",
       "      <td>2018</td>\n",
       "      <td>uniqueid_2115</td>\n",
       "      <td>No</td>\n",
       "      <td>Rural</td>\n",
       "      <td>Yes</td>\n",
       "      <td>5</td>\n",
       "      <td>27</td>\n",
       "      <td>Female</td>\n",
       "      <td>Parent</td>\n",
       "      <td>Widowed</td>\n",
       "      <td>Primary education</td>\n",
       "      <td>Other Income</td>\n",
       "    </tr>\n",
       "    <tr>\n",
       "      <th>23522</th>\n",
       "      <td>Uganda</td>\n",
       "      <td>2018</td>\n",
       "      <td>uniqueid_2116</td>\n",
       "      <td>No</td>\n",
       "      <td>Urban</td>\n",
       "      <td>Yes</td>\n",
       "      <td>7</td>\n",
       "      <td>30</td>\n",
       "      <td>Female</td>\n",
       "      <td>Parent</td>\n",
       "      <td>Divorced/Seperated</td>\n",
       "      <td>Secondary education</td>\n",
       "      <td>Self employed</td>\n",
       "    </tr>\n",
       "    <tr>\n",
       "      <th>23523</th>\n",
       "      <td>Uganda</td>\n",
       "      <td>2018</td>\n",
       "      <td>uniqueid_2117</td>\n",
       "      <td>No</td>\n",
       "      <td>Rural</td>\n",
       "      <td>Yes</td>\n",
       "      <td>10</td>\n",
       "      <td>20</td>\n",
       "      <td>Male</td>\n",
       "      <td>Child</td>\n",
       "      <td>Single/Never Married</td>\n",
       "      <td>Secondary education</td>\n",
       "      <td>No Income</td>\n",
       "    </tr>\n",
       "  </tbody>\n",
       "</table>\n",
       "<p>23524 rows × 13 columns</p>\n",
       "</div>"
      ],
      "text/plain": [
       "      country  year       uniqueid bank_account location_type  \\\n",
       "0       Kenya  2018     uniqueid_1          Yes         Rural   \n",
       "1       Kenya  2018     uniqueid_2           No         Rural   \n",
       "2       Kenya  2018     uniqueid_3          Yes         Urban   \n",
       "3       Kenya  2018     uniqueid_4           No         Rural   \n",
       "4       Kenya  2018     uniqueid_5           No         Urban   \n",
       "...       ...   ...            ...          ...           ...   \n",
       "23519  Uganda  2018  uniqueid_2113           No         Rural   \n",
       "23520  Uganda  2018  uniqueid_2114           No         Rural   \n",
       "23521  Uganda  2018  uniqueid_2115           No         Rural   \n",
       "23522  Uganda  2018  uniqueid_2116           No         Urban   \n",
       "23523  Uganda  2018  uniqueid_2117           No         Rural   \n",
       "\n",
       "      cellphone_access  household_size  age_of_respondent  \\\n",
       "0                  Yes               3                 24   \n",
       "1                   No               5                 70   \n",
       "2                  Yes               5                 26   \n",
       "3                  Yes               5                 34   \n",
       "4                   No               8                 26   \n",
       "...                ...             ...                ...   \n",
       "23519              Yes               4                 48   \n",
       "23520              Yes               2                 27   \n",
       "23521              Yes               5                 27   \n",
       "23522              Yes               7                 30   \n",
       "23523              Yes              10                 20   \n",
       "\n",
       "      gender_of_respondent relationship_with_head           marital_status  \\\n",
       "0                   Female                 Spouse  Married/Living together   \n",
       "1                   Female      Head of Household                  Widowed   \n",
       "2                     Male         Other relative     Single/Never Married   \n",
       "3                   Female      Head of Household  Married/Living together   \n",
       "4                     Male                  Child     Single/Never Married   \n",
       "...                    ...                    ...                      ...   \n",
       "23519               Female      Head of Household       Divorced/Seperated   \n",
       "23520               Female      Head of Household     Single/Never Married   \n",
       "23521               Female                 Parent                  Widowed   \n",
       "23522               Female                 Parent       Divorced/Seperated   \n",
       "23523                 Male                  Child     Single/Never Married   \n",
       "\n",
       "                       education_level                   job_type  \n",
       "0                  Secondary education              Self employed  \n",
       "1                  No formal education       Government Dependent  \n",
       "2      Vocational/Specialised training              Self employed  \n",
       "3                    Primary education  Formally employed Private  \n",
       "4                    Primary education        Informally employed  \n",
       "...                                ...                        ...  \n",
       "23519              No formal education               Other Income  \n",
       "23520              Secondary education               Other Income  \n",
       "23521                Primary education               Other Income  \n",
       "23522              Secondary education              Self employed  \n",
       "23523              Secondary education                  No Income  \n",
       "\n",
       "[23524 rows x 13 columns]"
      ]
     },
     "execution_count": 3,
     "metadata": {},
     "output_type": "execute_result"
    }
   ],
   "source": [
    "train"
   ]
  },
  {
   "cell_type": "code",
   "execution_count": 4,
   "metadata": {},
   "outputs": [
    {
     "data": {
      "text/html": [
       "<div>\n",
       "<style scoped>\n",
       "    .dataframe tbody tr th:only-of-type {\n",
       "        vertical-align: middle;\n",
       "    }\n",
       "\n",
       "    .dataframe tbody tr th {\n",
       "        vertical-align: top;\n",
       "    }\n",
       "\n",
       "    .dataframe thead th {\n",
       "        text-align: right;\n",
       "    }\n",
       "</style>\n",
       "<table border=\"1\" class=\"dataframe\">\n",
       "  <thead>\n",
       "    <tr style=\"text-align: right;\">\n",
       "      <th></th>\n",
       "      <th>country</th>\n",
       "      <th>year</th>\n",
       "      <th>uniqueid</th>\n",
       "      <th>location_type</th>\n",
       "      <th>cellphone_access</th>\n",
       "      <th>household_size</th>\n",
       "      <th>age_of_respondent</th>\n",
       "      <th>gender_of_respondent</th>\n",
       "      <th>relationship_with_head</th>\n",
       "      <th>marital_status</th>\n",
       "      <th>education_level</th>\n",
       "      <th>job_type</th>\n",
       "    </tr>\n",
       "  </thead>\n",
       "  <tbody>\n",
       "    <tr>\n",
       "      <th>0</th>\n",
       "      <td>Kenya</td>\n",
       "      <td>2018</td>\n",
       "      <td>uniqueid_6056</td>\n",
       "      <td>Urban</td>\n",
       "      <td>Yes</td>\n",
       "      <td>3</td>\n",
       "      <td>30</td>\n",
       "      <td>Male</td>\n",
       "      <td>Head of Household</td>\n",
       "      <td>Married/Living together</td>\n",
       "      <td>Secondary education</td>\n",
       "      <td>Formally employed Government</td>\n",
       "    </tr>\n",
       "    <tr>\n",
       "      <th>1</th>\n",
       "      <td>Kenya</td>\n",
       "      <td>2018</td>\n",
       "      <td>uniqueid_6060</td>\n",
       "      <td>Urban</td>\n",
       "      <td>Yes</td>\n",
       "      <td>7</td>\n",
       "      <td>51</td>\n",
       "      <td>Male</td>\n",
       "      <td>Head of Household</td>\n",
       "      <td>Married/Living together</td>\n",
       "      <td>Vocational/Specialised training</td>\n",
       "      <td>Formally employed Private</td>\n",
       "    </tr>\n",
       "    <tr>\n",
       "      <th>2</th>\n",
       "      <td>Kenya</td>\n",
       "      <td>2018</td>\n",
       "      <td>uniqueid_6065</td>\n",
       "      <td>Rural</td>\n",
       "      <td>No</td>\n",
       "      <td>3</td>\n",
       "      <td>77</td>\n",
       "      <td>Female</td>\n",
       "      <td>Parent</td>\n",
       "      <td>Married/Living together</td>\n",
       "      <td>No formal education</td>\n",
       "      <td>Remittance Dependent</td>\n",
       "    </tr>\n",
       "    <tr>\n",
       "      <th>3</th>\n",
       "      <td>Kenya</td>\n",
       "      <td>2018</td>\n",
       "      <td>uniqueid_6072</td>\n",
       "      <td>Rural</td>\n",
       "      <td>No</td>\n",
       "      <td>6</td>\n",
       "      <td>39</td>\n",
       "      <td>Female</td>\n",
       "      <td>Head of Household</td>\n",
       "      <td>Married/Living together</td>\n",
       "      <td>Primary education</td>\n",
       "      <td>Remittance Dependent</td>\n",
       "    </tr>\n",
       "    <tr>\n",
       "      <th>4</th>\n",
       "      <td>Kenya</td>\n",
       "      <td>2018</td>\n",
       "      <td>uniqueid_6073</td>\n",
       "      <td>Urban</td>\n",
       "      <td>No</td>\n",
       "      <td>3</td>\n",
       "      <td>16</td>\n",
       "      <td>Male</td>\n",
       "      <td>Child</td>\n",
       "      <td>Single/Never Married</td>\n",
       "      <td>Secondary education</td>\n",
       "      <td>Remittance Dependent</td>\n",
       "    </tr>\n",
       "    <tr>\n",
       "      <th>...</th>\n",
       "      <td>...</td>\n",
       "      <td>...</td>\n",
       "      <td>...</td>\n",
       "      <td>...</td>\n",
       "      <td>...</td>\n",
       "      <td>...</td>\n",
       "      <td>...</td>\n",
       "      <td>...</td>\n",
       "      <td>...</td>\n",
       "      <td>...</td>\n",
       "      <td>...</td>\n",
       "      <td>...</td>\n",
       "    </tr>\n",
       "    <tr>\n",
       "      <th>10081</th>\n",
       "      <td>Uganda</td>\n",
       "      <td>2018</td>\n",
       "      <td>uniqueid_2998</td>\n",
       "      <td>Rural</td>\n",
       "      <td>No</td>\n",
       "      <td>2</td>\n",
       "      <td>62</td>\n",
       "      <td>Female</td>\n",
       "      <td>Spouse</td>\n",
       "      <td>Married/Living together</td>\n",
       "      <td>Primary education</td>\n",
       "      <td>Self employed</td>\n",
       "    </tr>\n",
       "    <tr>\n",
       "      <th>10082</th>\n",
       "      <td>Uganda</td>\n",
       "      <td>2018</td>\n",
       "      <td>uniqueid_2999</td>\n",
       "      <td>Urban</td>\n",
       "      <td>Yes</td>\n",
       "      <td>8</td>\n",
       "      <td>42</td>\n",
       "      <td>Male</td>\n",
       "      <td>Head of Household</td>\n",
       "      <td>Married/Living together</td>\n",
       "      <td>Primary education</td>\n",
       "      <td>Self employed</td>\n",
       "    </tr>\n",
       "    <tr>\n",
       "      <th>10083</th>\n",
       "      <td>Uganda</td>\n",
       "      <td>2018</td>\n",
       "      <td>uniqueid_3000</td>\n",
       "      <td>Urban</td>\n",
       "      <td>Yes</td>\n",
       "      <td>1</td>\n",
       "      <td>39</td>\n",
       "      <td>Male</td>\n",
       "      <td>Head of Household</td>\n",
       "      <td>Single/Never Married</td>\n",
       "      <td>Secondary education</td>\n",
       "      <td>Other Income</td>\n",
       "    </tr>\n",
       "    <tr>\n",
       "      <th>10084</th>\n",
       "      <td>Uganda</td>\n",
       "      <td>2018</td>\n",
       "      <td>uniqueid_3001</td>\n",
       "      <td>Rural</td>\n",
       "      <td>Yes</td>\n",
       "      <td>6</td>\n",
       "      <td>28</td>\n",
       "      <td>Female</td>\n",
       "      <td>Spouse</td>\n",
       "      <td>Married/Living together</td>\n",
       "      <td>Primary education</td>\n",
       "      <td>Self employed</td>\n",
       "    </tr>\n",
       "    <tr>\n",
       "      <th>10085</th>\n",
       "      <td>Uganda</td>\n",
       "      <td>2018</td>\n",
       "      <td>uniqueid_3002</td>\n",
       "      <td>Urban</td>\n",
       "      <td>Yes</td>\n",
       "      <td>7</td>\n",
       "      <td>16</td>\n",
       "      <td>Male</td>\n",
       "      <td>Other relative</td>\n",
       "      <td>Single/Never Married</td>\n",
       "      <td>Secondary education</td>\n",
       "      <td>Other Income</td>\n",
       "    </tr>\n",
       "  </tbody>\n",
       "</table>\n",
       "<p>10086 rows × 12 columns</p>\n",
       "</div>"
      ],
      "text/plain": [
       "      country  year       uniqueid location_type cellphone_access  \\\n",
       "0       Kenya  2018  uniqueid_6056         Urban              Yes   \n",
       "1       Kenya  2018  uniqueid_6060         Urban              Yes   \n",
       "2       Kenya  2018  uniqueid_6065         Rural               No   \n",
       "3       Kenya  2018  uniqueid_6072         Rural               No   \n",
       "4       Kenya  2018  uniqueid_6073         Urban               No   \n",
       "...       ...   ...            ...           ...              ...   \n",
       "10081  Uganda  2018  uniqueid_2998         Rural               No   \n",
       "10082  Uganda  2018  uniqueid_2999         Urban              Yes   \n",
       "10083  Uganda  2018  uniqueid_3000         Urban              Yes   \n",
       "10084  Uganda  2018  uniqueid_3001         Rural              Yes   \n",
       "10085  Uganda  2018  uniqueid_3002         Urban              Yes   \n",
       "\n",
       "       household_size  age_of_respondent gender_of_respondent  \\\n",
       "0                   3                 30                 Male   \n",
       "1                   7                 51                 Male   \n",
       "2                   3                 77               Female   \n",
       "3                   6                 39               Female   \n",
       "4                   3                 16                 Male   \n",
       "...               ...                ...                  ...   \n",
       "10081               2                 62               Female   \n",
       "10082               8                 42                 Male   \n",
       "10083               1                 39                 Male   \n",
       "10084               6                 28               Female   \n",
       "10085               7                 16                 Male   \n",
       "\n",
       "      relationship_with_head           marital_status  \\\n",
       "0          Head of Household  Married/Living together   \n",
       "1          Head of Household  Married/Living together   \n",
       "2                     Parent  Married/Living together   \n",
       "3          Head of Household  Married/Living together   \n",
       "4                      Child     Single/Never Married   \n",
       "...                      ...                      ...   \n",
       "10081                 Spouse  Married/Living together   \n",
       "10082      Head of Household  Married/Living together   \n",
       "10083      Head of Household     Single/Never Married   \n",
       "10084                 Spouse  Married/Living together   \n",
       "10085         Other relative     Single/Never Married   \n",
       "\n",
       "                       education_level                      job_type  \n",
       "0                  Secondary education  Formally employed Government  \n",
       "1      Vocational/Specialised training     Formally employed Private  \n",
       "2                  No formal education          Remittance Dependent  \n",
       "3                    Primary education          Remittance Dependent  \n",
       "4                  Secondary education          Remittance Dependent  \n",
       "...                                ...                           ...  \n",
       "10081                Primary education                 Self employed  \n",
       "10082                Primary education                 Self employed  \n",
       "10083              Secondary education                  Other Income  \n",
       "10084                Primary education                 Self employed  \n",
       "10085              Secondary education                  Other Income  \n",
       "\n",
       "[10086 rows x 12 columns]"
      ]
     },
     "execution_count": 4,
     "metadata": {},
     "output_type": "execute_result"
    }
   ],
   "source": [
    "test"
   ]
  },
  {
   "cell_type": "code",
   "execution_count": 5,
   "metadata": {},
   "outputs": [
    {
     "name": "stdout",
     "output_type": "stream",
     "text": [
      "train data shape : (23524, 13)\n",
      "test data shape : (10086, 12)\n"
     ]
    }
   ],
   "source": [
    "# Let’s observe the shape of our datasets.\n",
    "print('train data shape :', train.shape)\n",
    "print('test data shape :', test.shape)"
   ]
  },
  {
   "cell_type": "markdown",
   "metadata": {},
   "source": [
    "### normalisation "
   ]
  },
  {
   "cell_type": "code",
   "execution_count": 6,
   "metadata": {},
   "outputs": [
    {
     "name": "stdout",
     "output_type": "stream",
     "text": [
      "missing values: country                   0\n",
      "year                      0\n",
      "uniqueid                  0\n",
      "bank_account              0\n",
      "location_type             0\n",
      "cellphone_access          0\n",
      "household_size            0\n",
      "age_of_respondent         0\n",
      "gender_of_respondent      0\n",
      "relationship_with_head    0\n",
      "marital_status            0\n",
      "education_level           0\n",
      "job_type                  0\n",
      "dtype: int64\n"
     ]
    }
   ],
   "source": [
    "# Check for missing values\n",
    "print('missing values:', train.isnull().sum())"
   ]
  },
  {
   "cell_type": "code",
   "execution_count": 7,
   "metadata": {},
   "outputs": [
    {
     "name": "stdout",
     "output_type": "stream",
     "text": [
      "<class 'pandas.core.frame.DataFrame'>\n",
      "RangeIndex: 23524 entries, 0 to 23523\n",
      "Data columns (total 13 columns):\n",
      " #   Column                  Non-Null Count  Dtype \n",
      "---  ------                  --------------  ----- \n",
      " 0   country                 23524 non-null  object\n",
      " 1   year                    23524 non-null  int64 \n",
      " 2   uniqueid                23524 non-null  object\n",
      " 3   bank_account            23524 non-null  object\n",
      " 4   location_type           23524 non-null  object\n",
      " 5   cellphone_access        23524 non-null  object\n",
      " 6   household_size          23524 non-null  int64 \n",
      " 7   age_of_respondent       23524 non-null  int64 \n",
      " 8   gender_of_respondent    23524 non-null  object\n",
      " 9   relationship_with_head  23524 non-null  object\n",
      " 10  marital_status          23524 non-null  object\n",
      " 11  education_level         23524 non-null  object\n",
      " 12  job_type                23524 non-null  object\n",
      "dtypes: int64(3), object(10)\n",
      "memory usage: 2.3+ MB\n"
     ]
    }
   ],
   "source": [
    "train.info()"
   ]
  },
  {
   "cell_type": "markdown",
   "metadata": {},
   "source": [
    "### on essayer de remplacer les yes et no par des chiffre binaires"
   ]
  },
  {
   "cell_type": "code",
   "execution_count": 8,
   "metadata": {},
   "outputs": [
    {
     "name": "stdout",
     "output_type": "stream",
     "text": [
      "0        1\n",
      "1        0\n",
      "2        1\n",
      "3        0\n",
      "4        0\n",
      "        ..\n",
      "23519    0\n",
      "23520    0\n",
      "23521    0\n",
      "23522    0\n",
      "23523    0\n",
      "Name: bank_account, Length: 23524, dtype: int32\n"
     ]
    }
   ],
   "source": [
    "#import preprocessing module\n",
    "from sklearn.preprocessing import LabelEncoder\n",
    "from sklearn.preprocessing import MinMaxScaler\n",
    "\n",
    "# Cobvert target label to numerical Data\n",
    "le = LabelEncoder()\n",
    "train['bank_account'] = le.fit_transform(train['bank_account'])\n",
    "\n",
    "#Separate training features from target\n",
    "X_train = train.drop(['bank_account'], axis=1)\n",
    "y_train = train['bank_account']\n",
    "\n",
    "print(y_train)"
   ]
  },
  {
   "cell_type": "markdown",
   "metadata": {},
   "source": [
    "### cette methode permet de labelise les caractere"
   ]
  },
  {
   "cell_type": "code",
   "execution_count": 9,
   "metadata": {},
   "outputs": [],
   "source": [
    "# function to preprocess our data from train models\n",
    "def preprocessing_data(data):\n",
    "\n",
    "    # Convert the following numerical labels from interger to float\n",
    "    float_array = data[[\"household_size\", \"age_of_respondent\", \"year\"]].values.astype(float)\n",
    "    \n",
    "    # categorical features to be onverted to One Hot Encoding\n",
    "    categ = [\"relationship_with_head\",\n",
    "             \"marital_status\",\n",
    "             \"education_level\",\n",
    "             \"job_type\",\n",
    "             \"country\"]\n",
    "    \n",
    "    # One Hot Encoding conversion\n",
    "    data = pd.get_dummies(data, prefix_sep=\"_\", columns=categ)\n",
    "    \n",
    "    # Label Encoder conversion\n",
    "    data[\"location_type\"] = le.fit_transform(data[\"location_type\"])\n",
    "    data[\"cellphone_access\"] = le.fit_transform(data[\"cellphone_access\"])\n",
    "    data[\"gender_of_respondent\"] = le.fit_transform(data[\"gender_of_respondent\"])\n",
    "    \n",
    "    # drop uniquid column\n",
    "    data = data.drop([\"uniqueid\"], axis=1)\n",
    "    \n",
    "    # scale our data into range of 0 and 1\n",
    "    scaler = MinMaxScaler(feature_range=(0, 1))\n",
    "    data = scaler.fit_transform(data)\n",
    "    \n",
    "    return data                  "
   ]
  },
  {
   "cell_type": "code",
   "execution_count": 10,
   "metadata": {},
   "outputs": [],
   "source": [
    "# preprocess the train data \n",
    "processed_train = preprocessing_data(X_train)\n",
    "processed_test = preprocessing_data(test)"
   ]
  },
  {
   "cell_type": "code",
   "execution_count": 11,
   "metadata": {},
   "outputs": [],
   "source": [
    "X_Train, X_Val, y_Train, y_val = train_test_split(processed_train, y_train, stratify = y_train, test_size = 0.1, random_state=42)"
   ]
  },
  {
   "cell_type": "code",
   "execution_count": 12,
   "metadata": {},
   "outputs": [
    {
     "data": {
      "text/plain": [
       "array([[1. , 0. , 0. , ..., 0. , 0. , 1. ],\n",
       "       [0.5, 1. , 0. , ..., 0. , 1. , 0. ],\n",
       "       [1. , 0. , 1. , ..., 0. , 0. , 0. ],\n",
       "       ...,\n",
       "       [0.5, 1. , 0. , ..., 0. , 1. , 0. ],\n",
       "       [0. , 1. , 1. , ..., 1. , 0. , 0. ],\n",
       "       [0. , 0. , 0. , ..., 1. , 0. , 0. ]])"
      ]
     },
     "execution_count": 12,
     "metadata": {},
     "output_type": "execute_result"
    }
   ],
   "source": [
    "X_Train"
   ]
  },
  {
   "cell_type": "code",
   "execution_count": 13,
   "metadata": {},
   "outputs": [
    {
     "data": {
      "text/plain": [
       "23019    0\n",
       "15717    0\n",
       "5029     1\n",
       "21657    0\n",
       "15193    0\n",
       "        ..\n",
       "13297    0\n",
       "14158    0\n",
       "18867    0\n",
       "13529    0\n",
       "12869    0\n",
       "Name: bank_account, Length: 21171, dtype: int32"
      ]
     },
     "execution_count": 13,
     "metadata": {},
     "output_type": "execute_result"
    }
   ],
   "source": [
    "y_Train"
   ]
  },
  {
   "cell_type": "markdown",
   "metadata": {},
   "source": [
    "### IMPLEMENTATION DE LA METHODE LOGISTICREGRESSION"
   ]
  },
  {
   "cell_type": "code",
   "execution_count": 14,
   "metadata": {},
   "outputs": [
    {
     "name": "stderr",
     "output_type": "stream",
     "text": [
      "c:\\Python\\Python310\\lib\\site-packages\\sklearn\\linear_model\\_logistic.py:444: ConvergenceWarning: lbfgs failed to converge (status=1):\n",
      "STOP: TOTAL NO. of ITERATIONS REACHED LIMIT.\n",
      "\n",
      "Increase the number of iterations (max_iter) or scale the data as shown in:\n",
      "    https://scikit-learn.org/stable/modules/preprocessing.html\n",
      "Please also refer to the documentation for alternative solver options:\n",
      "    https://scikit-learn.org/stable/modules/linear_model.html#logistic-regression\n",
      "  n_iter_i = _check_optimize_result(\n"
     ]
    },
    {
     "data": {
      "text/plain": [
       "array([0, 0, 0, ..., 0, 0, 1])"
      ]
     },
     "execution_count": 14,
     "metadata": {},
     "output_type": "execute_result"
    }
   ],
   "source": [
    "# instanciation \n",
    "lr=LogisticRegression()\n",
    "# fitting \n",
    "lr.fit(X_Train,y_Train)\n",
    "# prediction\n",
    "pred = lr.predict(X_Val)\n",
    "pred"
   ]
  },
  {
   "cell_type": "code",
   "execution_count": 15,
   "metadata": {},
   "outputs": [
    {
     "data": {
      "text/plain": [
       "0.8878028049298767"
      ]
     },
     "execution_count": 15,
     "metadata": {},
     "output_type": "execute_result"
    }
   ],
   "source": [
    "acc = accuracy_score(y_val, pred)\n",
    "acc"
   ]
  },
  {
   "cell_type": "code",
   "execution_count": 16,
   "metadata": {},
   "outputs": [],
   "source": [
    "from sklearn.model_selection import GridSearchCV"
   ]
  },
  {
   "cell_type": "code",
   "execution_count": 17,
   "metadata": {},
   "outputs": [
    {
     "name": "stdout",
     "output_type": "stream",
     "text": [
      "Fitting 5 folds for each of 19 candidates, totalling 95 fits\n"
     ]
    },
    {
     "name": "stderr",
     "output_type": "stream",
     "text": [
      "c:\\Python\\Python310\\lib\\site-packages\\sklearn\\linear_model\\_logistic.py:444: ConvergenceWarning: lbfgs failed to converge (status=1):\n",
      "STOP: TOTAL NO. of ITERATIONS REACHED LIMIT.\n",
      "\n",
      "Increase the number of iterations (max_iter) or scale the data as shown in:\n",
      "    https://scikit-learn.org/stable/modules/preprocessing.html\n",
      "Please also refer to the documentation for alternative solver options:\n",
      "    https://scikit-learn.org/stable/modules/linear_model.html#logistic-regression\n",
      "  n_iter_i = _check_optimize_result(\n"
     ]
    },
    {
     "name": "stdout",
     "output_type": "stream",
     "text": [
      "[CV 1/5] END ...............intercept_scaling=1;, score=0.880 total time=   0.2s\n"
     ]
    },
    {
     "name": "stderr",
     "output_type": "stream",
     "text": [
      "c:\\Python\\Python310\\lib\\site-packages\\sklearn\\linear_model\\_logistic.py:444: ConvergenceWarning: lbfgs failed to converge (status=1):\n",
      "STOP: TOTAL NO. of ITERATIONS REACHED LIMIT.\n",
      "\n",
      "Increase the number of iterations (max_iter) or scale the data as shown in:\n",
      "    https://scikit-learn.org/stable/modules/preprocessing.html\n",
      "Please also refer to the documentation for alternative solver options:\n",
      "    https://scikit-learn.org/stable/modules/linear_model.html#logistic-regression\n",
      "  n_iter_i = _check_optimize_result(\n"
     ]
    },
    {
     "name": "stdout",
     "output_type": "stream",
     "text": [
      "[CV 2/5] END ...............intercept_scaling=1;, score=0.882 total time=   0.2s\n"
     ]
    },
    {
     "name": "stderr",
     "output_type": "stream",
     "text": [
      "c:\\Python\\Python310\\lib\\site-packages\\sklearn\\linear_model\\_logistic.py:444: ConvergenceWarning: lbfgs failed to converge (status=1):\n",
      "STOP: TOTAL NO. of ITERATIONS REACHED LIMIT.\n",
      "\n",
      "Increase the number of iterations (max_iter) or scale the data as shown in:\n",
      "    https://scikit-learn.org/stable/modules/preprocessing.html\n",
      "Please also refer to the documentation for alternative solver options:\n",
      "    https://scikit-learn.org/stable/modules/linear_model.html#logistic-regression\n",
      "  n_iter_i = _check_optimize_result(\n"
     ]
    },
    {
     "name": "stdout",
     "output_type": "stream",
     "text": [
      "[CV 3/5] END ...............intercept_scaling=1;, score=0.887 total time=   0.2s\n",
      "[CV 4/5] END ...............intercept_scaling=1;, score=0.889 total time=   0.2s\n"
     ]
    },
    {
     "name": "stderr",
     "output_type": "stream",
     "text": [
      "c:\\Python\\Python310\\lib\\site-packages\\sklearn\\linear_model\\_logistic.py:444: ConvergenceWarning: lbfgs failed to converge (status=1):\n",
      "STOP: TOTAL NO. of ITERATIONS REACHED LIMIT.\n",
      "\n",
      "Increase the number of iterations (max_iter) or scale the data as shown in:\n",
      "    https://scikit-learn.org/stable/modules/preprocessing.html\n",
      "Please also refer to the documentation for alternative solver options:\n",
      "    https://scikit-learn.org/stable/modules/linear_model.html#logistic-regression\n",
      "  n_iter_i = _check_optimize_result(\n"
     ]
    },
    {
     "name": "stdout",
     "output_type": "stream",
     "text": [
      "[CV 5/5] END ...............intercept_scaling=1;, score=0.883 total time=   0.2s\n"
     ]
    },
    {
     "name": "stderr",
     "output_type": "stream",
     "text": [
      "c:\\Python\\Python310\\lib\\site-packages\\sklearn\\linear_model\\_logistic.py:444: ConvergenceWarning: lbfgs failed to converge (status=1):\n",
      "STOP: TOTAL NO. of ITERATIONS REACHED LIMIT.\n",
      "\n",
      "Increase the number of iterations (max_iter) or scale the data as shown in:\n",
      "    https://scikit-learn.org/stable/modules/preprocessing.html\n",
      "Please also refer to the documentation for alternative solver options:\n",
      "    https://scikit-learn.org/stable/modules/linear_model.html#logistic-regression\n",
      "  n_iter_i = _check_optimize_result(\n"
     ]
    },
    {
     "name": "stdout",
     "output_type": "stream",
     "text": [
      "[CV 1/5] END ...............intercept_scaling=2;, score=0.880 total time=   0.2s\n"
     ]
    },
    {
     "name": "stderr",
     "output_type": "stream",
     "text": [
      "c:\\Python\\Python310\\lib\\site-packages\\sklearn\\linear_model\\_logistic.py:444: ConvergenceWarning: lbfgs failed to converge (status=1):\n",
      "STOP: TOTAL NO. of ITERATIONS REACHED LIMIT.\n",
      "\n",
      "Increase the number of iterations (max_iter) or scale the data as shown in:\n",
      "    https://scikit-learn.org/stable/modules/preprocessing.html\n",
      "Please also refer to the documentation for alternative solver options:\n",
      "    https://scikit-learn.org/stable/modules/linear_model.html#logistic-regression\n",
      "  n_iter_i = _check_optimize_result(\n"
     ]
    },
    {
     "name": "stdout",
     "output_type": "stream",
     "text": [
      "[CV 2/5] END ...............intercept_scaling=2;, score=0.882 total time=   0.2s\n"
     ]
    },
    {
     "name": "stderr",
     "output_type": "stream",
     "text": [
      "c:\\Python\\Python310\\lib\\site-packages\\sklearn\\linear_model\\_logistic.py:444: ConvergenceWarning: lbfgs failed to converge (status=1):\n",
      "STOP: TOTAL NO. of ITERATIONS REACHED LIMIT.\n",
      "\n",
      "Increase the number of iterations (max_iter) or scale the data as shown in:\n",
      "    https://scikit-learn.org/stable/modules/preprocessing.html\n",
      "Please also refer to the documentation for alternative solver options:\n",
      "    https://scikit-learn.org/stable/modules/linear_model.html#logistic-regression\n",
      "  n_iter_i = _check_optimize_result(\n"
     ]
    },
    {
     "name": "stdout",
     "output_type": "stream",
     "text": [
      "[CV 3/5] END ...............intercept_scaling=2;, score=0.887 total time=   0.2s\n",
      "[CV 4/5] END ...............intercept_scaling=2;, score=0.889 total time=   0.2s\n"
     ]
    },
    {
     "name": "stderr",
     "output_type": "stream",
     "text": [
      "c:\\Python\\Python310\\lib\\site-packages\\sklearn\\linear_model\\_logistic.py:444: ConvergenceWarning: lbfgs failed to converge (status=1):\n",
      "STOP: TOTAL NO. of ITERATIONS REACHED LIMIT.\n",
      "\n",
      "Increase the number of iterations (max_iter) or scale the data as shown in:\n",
      "    https://scikit-learn.org/stable/modules/preprocessing.html\n",
      "Please also refer to the documentation for alternative solver options:\n",
      "    https://scikit-learn.org/stable/modules/linear_model.html#logistic-regression\n",
      "  n_iter_i = _check_optimize_result(\n"
     ]
    },
    {
     "name": "stdout",
     "output_type": "stream",
     "text": [
      "[CV 5/5] END ...............intercept_scaling=2;, score=0.883 total time=   0.2s\n"
     ]
    },
    {
     "name": "stderr",
     "output_type": "stream",
     "text": [
      "c:\\Python\\Python310\\lib\\site-packages\\sklearn\\linear_model\\_logistic.py:444: ConvergenceWarning: lbfgs failed to converge (status=1):\n",
      "STOP: TOTAL NO. of ITERATIONS REACHED LIMIT.\n",
      "\n",
      "Increase the number of iterations (max_iter) or scale the data as shown in:\n",
      "    https://scikit-learn.org/stable/modules/preprocessing.html\n",
      "Please also refer to the documentation for alternative solver options:\n",
      "    https://scikit-learn.org/stable/modules/linear_model.html#logistic-regression\n",
      "  n_iter_i = _check_optimize_result(\n"
     ]
    },
    {
     "name": "stdout",
     "output_type": "stream",
     "text": [
      "[CV 1/5] END ...............intercept_scaling=3;, score=0.880 total time=   0.3s\n"
     ]
    },
    {
     "name": "stderr",
     "output_type": "stream",
     "text": [
      "c:\\Python\\Python310\\lib\\site-packages\\sklearn\\linear_model\\_logistic.py:444: ConvergenceWarning: lbfgs failed to converge (status=1):\n",
      "STOP: TOTAL NO. of ITERATIONS REACHED LIMIT.\n",
      "\n",
      "Increase the number of iterations (max_iter) or scale the data as shown in:\n",
      "    https://scikit-learn.org/stable/modules/preprocessing.html\n",
      "Please also refer to the documentation for alternative solver options:\n",
      "    https://scikit-learn.org/stable/modules/linear_model.html#logistic-regression\n",
      "  n_iter_i = _check_optimize_result(\n"
     ]
    },
    {
     "name": "stdout",
     "output_type": "stream",
     "text": [
      "[CV 2/5] END ...............intercept_scaling=3;, score=0.882 total time=   0.2s\n"
     ]
    },
    {
     "name": "stderr",
     "output_type": "stream",
     "text": [
      "c:\\Python\\Python310\\lib\\site-packages\\sklearn\\linear_model\\_logistic.py:444: ConvergenceWarning: lbfgs failed to converge (status=1):\n",
      "STOP: TOTAL NO. of ITERATIONS REACHED LIMIT.\n",
      "\n",
      "Increase the number of iterations (max_iter) or scale the data as shown in:\n",
      "    https://scikit-learn.org/stable/modules/preprocessing.html\n",
      "Please also refer to the documentation for alternative solver options:\n",
      "    https://scikit-learn.org/stable/modules/linear_model.html#logistic-regression\n",
      "  n_iter_i = _check_optimize_result(\n"
     ]
    },
    {
     "name": "stdout",
     "output_type": "stream",
     "text": [
      "[CV 3/5] END ...............intercept_scaling=3;, score=0.887 total time=   0.2s\n",
      "[CV 4/5] END ...............intercept_scaling=3;, score=0.889 total time=   0.2s\n"
     ]
    },
    {
     "name": "stderr",
     "output_type": "stream",
     "text": [
      "c:\\Python\\Python310\\lib\\site-packages\\sklearn\\linear_model\\_logistic.py:444: ConvergenceWarning: lbfgs failed to converge (status=1):\n",
      "STOP: TOTAL NO. of ITERATIONS REACHED LIMIT.\n",
      "\n",
      "Increase the number of iterations (max_iter) or scale the data as shown in:\n",
      "    https://scikit-learn.org/stable/modules/preprocessing.html\n",
      "Please also refer to the documentation for alternative solver options:\n",
      "    https://scikit-learn.org/stable/modules/linear_model.html#logistic-regression\n",
      "  n_iter_i = _check_optimize_result(\n"
     ]
    },
    {
     "name": "stdout",
     "output_type": "stream",
     "text": [
      "[CV 5/5] END ...............intercept_scaling=3;, score=0.883 total time=   0.2s\n"
     ]
    },
    {
     "name": "stderr",
     "output_type": "stream",
     "text": [
      "c:\\Python\\Python310\\lib\\site-packages\\sklearn\\linear_model\\_logistic.py:444: ConvergenceWarning: lbfgs failed to converge (status=1):\n",
      "STOP: TOTAL NO. of ITERATIONS REACHED LIMIT.\n",
      "\n",
      "Increase the number of iterations (max_iter) or scale the data as shown in:\n",
      "    https://scikit-learn.org/stable/modules/preprocessing.html\n",
      "Please also refer to the documentation for alternative solver options:\n",
      "    https://scikit-learn.org/stable/modules/linear_model.html#logistic-regression\n",
      "  n_iter_i = _check_optimize_result(\n"
     ]
    },
    {
     "name": "stdout",
     "output_type": "stream",
     "text": [
      "[CV 1/5] END ...............intercept_scaling=4;, score=0.880 total time=   0.2s\n"
     ]
    },
    {
     "name": "stderr",
     "output_type": "stream",
     "text": [
      "c:\\Python\\Python310\\lib\\site-packages\\sklearn\\linear_model\\_logistic.py:444: ConvergenceWarning: lbfgs failed to converge (status=1):\n",
      "STOP: TOTAL NO. of ITERATIONS REACHED LIMIT.\n",
      "\n",
      "Increase the number of iterations (max_iter) or scale the data as shown in:\n",
      "    https://scikit-learn.org/stable/modules/preprocessing.html\n",
      "Please also refer to the documentation for alternative solver options:\n",
      "    https://scikit-learn.org/stable/modules/linear_model.html#logistic-regression\n",
      "  n_iter_i = _check_optimize_result(\n"
     ]
    },
    {
     "name": "stdout",
     "output_type": "stream",
     "text": [
      "[CV 2/5] END ...............intercept_scaling=4;, score=0.882 total time=   0.2s\n"
     ]
    },
    {
     "name": "stderr",
     "output_type": "stream",
     "text": [
      "c:\\Python\\Python310\\lib\\site-packages\\sklearn\\linear_model\\_logistic.py:444: ConvergenceWarning: lbfgs failed to converge (status=1):\n",
      "STOP: TOTAL NO. of ITERATIONS REACHED LIMIT.\n",
      "\n",
      "Increase the number of iterations (max_iter) or scale the data as shown in:\n",
      "    https://scikit-learn.org/stable/modules/preprocessing.html\n",
      "Please also refer to the documentation for alternative solver options:\n",
      "    https://scikit-learn.org/stable/modules/linear_model.html#logistic-regression\n",
      "  n_iter_i = _check_optimize_result(\n"
     ]
    },
    {
     "name": "stdout",
     "output_type": "stream",
     "text": [
      "[CV 3/5] END ...............intercept_scaling=4;, score=0.887 total time=   0.2s\n",
      "[CV 4/5] END ...............intercept_scaling=4;, score=0.889 total time=   0.2s\n"
     ]
    },
    {
     "name": "stderr",
     "output_type": "stream",
     "text": [
      "c:\\Python\\Python310\\lib\\site-packages\\sklearn\\linear_model\\_logistic.py:444: ConvergenceWarning: lbfgs failed to converge (status=1):\n",
      "STOP: TOTAL NO. of ITERATIONS REACHED LIMIT.\n",
      "\n",
      "Increase the number of iterations (max_iter) or scale the data as shown in:\n",
      "    https://scikit-learn.org/stable/modules/preprocessing.html\n",
      "Please also refer to the documentation for alternative solver options:\n",
      "    https://scikit-learn.org/stable/modules/linear_model.html#logistic-regression\n",
      "  n_iter_i = _check_optimize_result(\n"
     ]
    },
    {
     "name": "stdout",
     "output_type": "stream",
     "text": [
      "[CV 5/5] END ...............intercept_scaling=4;, score=0.883 total time=   0.2s\n"
     ]
    },
    {
     "name": "stderr",
     "output_type": "stream",
     "text": [
      "c:\\Python\\Python310\\lib\\site-packages\\sklearn\\linear_model\\_logistic.py:444: ConvergenceWarning: lbfgs failed to converge (status=1):\n",
      "STOP: TOTAL NO. of ITERATIONS REACHED LIMIT.\n",
      "\n",
      "Increase the number of iterations (max_iter) or scale the data as shown in:\n",
      "    https://scikit-learn.org/stable/modules/preprocessing.html\n",
      "Please also refer to the documentation for alternative solver options:\n",
      "    https://scikit-learn.org/stable/modules/linear_model.html#logistic-regression\n",
      "  n_iter_i = _check_optimize_result(\n"
     ]
    },
    {
     "name": "stdout",
     "output_type": "stream",
     "text": [
      "[CV 1/5] END ...............intercept_scaling=5;, score=0.880 total time=   0.2s\n"
     ]
    },
    {
     "name": "stderr",
     "output_type": "stream",
     "text": [
      "c:\\Python\\Python310\\lib\\site-packages\\sklearn\\linear_model\\_logistic.py:444: ConvergenceWarning: lbfgs failed to converge (status=1):\n",
      "STOP: TOTAL NO. of ITERATIONS REACHED LIMIT.\n",
      "\n",
      "Increase the number of iterations (max_iter) or scale the data as shown in:\n",
      "    https://scikit-learn.org/stable/modules/preprocessing.html\n",
      "Please also refer to the documentation for alternative solver options:\n",
      "    https://scikit-learn.org/stable/modules/linear_model.html#logistic-regression\n",
      "  n_iter_i = _check_optimize_result(\n"
     ]
    },
    {
     "name": "stdout",
     "output_type": "stream",
     "text": [
      "[CV 2/5] END ...............intercept_scaling=5;, score=0.882 total time=   0.2s\n"
     ]
    },
    {
     "name": "stderr",
     "output_type": "stream",
     "text": [
      "c:\\Python\\Python310\\lib\\site-packages\\sklearn\\linear_model\\_logistic.py:444: ConvergenceWarning: lbfgs failed to converge (status=1):\n",
      "STOP: TOTAL NO. of ITERATIONS REACHED LIMIT.\n",
      "\n",
      "Increase the number of iterations (max_iter) or scale the data as shown in:\n",
      "    https://scikit-learn.org/stable/modules/preprocessing.html\n",
      "Please also refer to the documentation for alternative solver options:\n",
      "    https://scikit-learn.org/stable/modules/linear_model.html#logistic-regression\n",
      "  n_iter_i = _check_optimize_result(\n"
     ]
    },
    {
     "name": "stdout",
     "output_type": "stream",
     "text": [
      "[CV 3/5] END ...............intercept_scaling=5;, score=0.887 total time=   0.2s\n",
      "[CV 4/5] END ...............intercept_scaling=5;, score=0.889 total time=   0.2s\n"
     ]
    },
    {
     "name": "stderr",
     "output_type": "stream",
     "text": [
      "c:\\Python\\Python310\\lib\\site-packages\\sklearn\\linear_model\\_logistic.py:444: ConvergenceWarning: lbfgs failed to converge (status=1):\n",
      "STOP: TOTAL NO. of ITERATIONS REACHED LIMIT.\n",
      "\n",
      "Increase the number of iterations (max_iter) or scale the data as shown in:\n",
      "    https://scikit-learn.org/stable/modules/preprocessing.html\n",
      "Please also refer to the documentation for alternative solver options:\n",
      "    https://scikit-learn.org/stable/modules/linear_model.html#logistic-regression\n",
      "  n_iter_i = _check_optimize_result(\n"
     ]
    },
    {
     "name": "stdout",
     "output_type": "stream",
     "text": [
      "[CV 5/5] END ...............intercept_scaling=5;, score=0.883 total time=   0.2s\n"
     ]
    },
    {
     "name": "stderr",
     "output_type": "stream",
     "text": [
      "c:\\Python\\Python310\\lib\\site-packages\\sklearn\\linear_model\\_logistic.py:444: ConvergenceWarning: lbfgs failed to converge (status=1):\n",
      "STOP: TOTAL NO. of ITERATIONS REACHED LIMIT.\n",
      "\n",
      "Increase the number of iterations (max_iter) or scale the data as shown in:\n",
      "    https://scikit-learn.org/stable/modules/preprocessing.html\n",
      "Please also refer to the documentation for alternative solver options:\n",
      "    https://scikit-learn.org/stable/modules/linear_model.html#logistic-regression\n",
      "  n_iter_i = _check_optimize_result(\n"
     ]
    },
    {
     "name": "stdout",
     "output_type": "stream",
     "text": [
      "[CV 1/5] END ...............intercept_scaling=5;, score=0.880 total time=   0.2s\n"
     ]
    },
    {
     "name": "stderr",
     "output_type": "stream",
     "text": [
      "c:\\Python\\Python310\\lib\\site-packages\\sklearn\\linear_model\\_logistic.py:444: ConvergenceWarning: lbfgs failed to converge (status=1):\n",
      "STOP: TOTAL NO. of ITERATIONS REACHED LIMIT.\n",
      "\n",
      "Increase the number of iterations (max_iter) or scale the data as shown in:\n",
      "    https://scikit-learn.org/stable/modules/preprocessing.html\n",
      "Please also refer to the documentation for alternative solver options:\n",
      "    https://scikit-learn.org/stable/modules/linear_model.html#logistic-regression\n",
      "  n_iter_i = _check_optimize_result(\n"
     ]
    },
    {
     "name": "stdout",
     "output_type": "stream",
     "text": [
      "[CV 2/5] END ...............intercept_scaling=5;, score=0.882 total time=   0.3s\n"
     ]
    },
    {
     "name": "stderr",
     "output_type": "stream",
     "text": [
      "c:\\Python\\Python310\\lib\\site-packages\\sklearn\\linear_model\\_logistic.py:444: ConvergenceWarning: lbfgs failed to converge (status=1):\n",
      "STOP: TOTAL NO. of ITERATIONS REACHED LIMIT.\n",
      "\n",
      "Increase the number of iterations (max_iter) or scale the data as shown in:\n",
      "    https://scikit-learn.org/stable/modules/preprocessing.html\n",
      "Please also refer to the documentation for alternative solver options:\n",
      "    https://scikit-learn.org/stable/modules/linear_model.html#logistic-regression\n",
      "  n_iter_i = _check_optimize_result(\n"
     ]
    },
    {
     "name": "stdout",
     "output_type": "stream",
     "text": [
      "[CV 3/5] END ...............intercept_scaling=5;, score=0.887 total time=   0.2s\n",
      "[CV 4/5] END ...............intercept_scaling=5;, score=0.889 total time=   0.2s\n"
     ]
    },
    {
     "name": "stderr",
     "output_type": "stream",
     "text": [
      "c:\\Python\\Python310\\lib\\site-packages\\sklearn\\linear_model\\_logistic.py:444: ConvergenceWarning: lbfgs failed to converge (status=1):\n",
      "STOP: TOTAL NO. of ITERATIONS REACHED LIMIT.\n",
      "\n",
      "Increase the number of iterations (max_iter) or scale the data as shown in:\n",
      "    https://scikit-learn.org/stable/modules/preprocessing.html\n",
      "Please also refer to the documentation for alternative solver options:\n",
      "    https://scikit-learn.org/stable/modules/linear_model.html#logistic-regression\n",
      "  n_iter_i = _check_optimize_result(\n"
     ]
    },
    {
     "name": "stdout",
     "output_type": "stream",
     "text": [
      "[CV 5/5] END ...............intercept_scaling=5;, score=0.883 total time=   0.2s\n"
     ]
    },
    {
     "name": "stderr",
     "output_type": "stream",
     "text": [
      "c:\\Python\\Python310\\lib\\site-packages\\sklearn\\linear_model\\_logistic.py:444: ConvergenceWarning: lbfgs failed to converge (status=1):\n",
      "STOP: TOTAL NO. of ITERATIONS REACHED LIMIT.\n",
      "\n",
      "Increase the number of iterations (max_iter) or scale the data as shown in:\n",
      "    https://scikit-learn.org/stable/modules/preprocessing.html\n",
      "Please also refer to the documentation for alternative solver options:\n",
      "    https://scikit-learn.org/stable/modules/linear_model.html#logistic-regression\n",
      "  n_iter_i = _check_optimize_result(\n"
     ]
    },
    {
     "name": "stdout",
     "output_type": "stream",
     "text": [
      "[CV 1/5] END ...............intercept_scaling=6;, score=0.880 total time=   0.2s\n"
     ]
    },
    {
     "name": "stderr",
     "output_type": "stream",
     "text": [
      "c:\\Python\\Python310\\lib\\site-packages\\sklearn\\linear_model\\_logistic.py:444: ConvergenceWarning: lbfgs failed to converge (status=1):\n",
      "STOP: TOTAL NO. of ITERATIONS REACHED LIMIT.\n",
      "\n",
      "Increase the number of iterations (max_iter) or scale the data as shown in:\n",
      "    https://scikit-learn.org/stable/modules/preprocessing.html\n",
      "Please also refer to the documentation for alternative solver options:\n",
      "    https://scikit-learn.org/stable/modules/linear_model.html#logistic-regression\n",
      "  n_iter_i = _check_optimize_result(\n"
     ]
    },
    {
     "name": "stdout",
     "output_type": "stream",
     "text": [
      "[CV 2/5] END ...............intercept_scaling=6;, score=0.882 total time=   0.2s\n"
     ]
    },
    {
     "name": "stderr",
     "output_type": "stream",
     "text": [
      "c:\\Python\\Python310\\lib\\site-packages\\sklearn\\linear_model\\_logistic.py:444: ConvergenceWarning: lbfgs failed to converge (status=1):\n",
      "STOP: TOTAL NO. of ITERATIONS REACHED LIMIT.\n",
      "\n",
      "Increase the number of iterations (max_iter) or scale the data as shown in:\n",
      "    https://scikit-learn.org/stable/modules/preprocessing.html\n",
      "Please also refer to the documentation for alternative solver options:\n",
      "    https://scikit-learn.org/stable/modules/linear_model.html#logistic-regression\n",
      "  n_iter_i = _check_optimize_result(\n"
     ]
    },
    {
     "name": "stdout",
     "output_type": "stream",
     "text": [
      "[CV 3/5] END ...............intercept_scaling=6;, score=0.887 total time=   0.2s\n",
      "[CV 4/5] END ...............intercept_scaling=6;, score=0.889 total time=   0.2s\n"
     ]
    },
    {
     "name": "stderr",
     "output_type": "stream",
     "text": [
      "c:\\Python\\Python310\\lib\\site-packages\\sklearn\\linear_model\\_logistic.py:444: ConvergenceWarning: lbfgs failed to converge (status=1):\n",
      "STOP: TOTAL NO. of ITERATIONS REACHED LIMIT.\n",
      "\n",
      "Increase the number of iterations (max_iter) or scale the data as shown in:\n",
      "    https://scikit-learn.org/stable/modules/preprocessing.html\n",
      "Please also refer to the documentation for alternative solver options:\n",
      "    https://scikit-learn.org/stable/modules/linear_model.html#logistic-regression\n",
      "  n_iter_i = _check_optimize_result(\n"
     ]
    },
    {
     "name": "stdout",
     "output_type": "stream",
     "text": [
      "[CV 5/5] END ...............intercept_scaling=6;, score=0.883 total time=   0.2s\n"
     ]
    },
    {
     "name": "stderr",
     "output_type": "stream",
     "text": [
      "c:\\Python\\Python310\\lib\\site-packages\\sklearn\\linear_model\\_logistic.py:444: ConvergenceWarning: lbfgs failed to converge (status=1):\n",
      "STOP: TOTAL NO. of ITERATIONS REACHED LIMIT.\n",
      "\n",
      "Increase the number of iterations (max_iter) or scale the data as shown in:\n",
      "    https://scikit-learn.org/stable/modules/preprocessing.html\n",
      "Please also refer to the documentation for alternative solver options:\n",
      "    https://scikit-learn.org/stable/modules/linear_model.html#logistic-regression\n",
      "  n_iter_i = _check_optimize_result(\n"
     ]
    },
    {
     "name": "stdout",
     "output_type": "stream",
     "text": [
      "[CV 1/5] END ...............intercept_scaling=7;, score=0.880 total time=   0.2s\n"
     ]
    },
    {
     "name": "stderr",
     "output_type": "stream",
     "text": [
      "c:\\Python\\Python310\\lib\\site-packages\\sklearn\\linear_model\\_logistic.py:444: ConvergenceWarning: lbfgs failed to converge (status=1):\n",
      "STOP: TOTAL NO. of ITERATIONS REACHED LIMIT.\n",
      "\n",
      "Increase the number of iterations (max_iter) or scale the data as shown in:\n",
      "    https://scikit-learn.org/stable/modules/preprocessing.html\n",
      "Please also refer to the documentation for alternative solver options:\n",
      "    https://scikit-learn.org/stable/modules/linear_model.html#logistic-regression\n",
      "  n_iter_i = _check_optimize_result(\n"
     ]
    },
    {
     "name": "stdout",
     "output_type": "stream",
     "text": [
      "[CV 2/5] END ...............intercept_scaling=7;, score=0.882 total time=   0.2s\n"
     ]
    },
    {
     "name": "stderr",
     "output_type": "stream",
     "text": [
      "c:\\Python\\Python310\\lib\\site-packages\\sklearn\\linear_model\\_logistic.py:444: ConvergenceWarning: lbfgs failed to converge (status=1):\n",
      "STOP: TOTAL NO. of ITERATIONS REACHED LIMIT.\n",
      "\n",
      "Increase the number of iterations (max_iter) or scale the data as shown in:\n",
      "    https://scikit-learn.org/stable/modules/preprocessing.html\n",
      "Please also refer to the documentation for alternative solver options:\n",
      "    https://scikit-learn.org/stable/modules/linear_model.html#logistic-regression\n",
      "  n_iter_i = _check_optimize_result(\n"
     ]
    },
    {
     "name": "stdout",
     "output_type": "stream",
     "text": [
      "[CV 3/5] END ...............intercept_scaling=7;, score=0.887 total time=   0.2s\n",
      "[CV 4/5] END ...............intercept_scaling=7;, score=0.889 total time=   0.2s\n"
     ]
    },
    {
     "name": "stderr",
     "output_type": "stream",
     "text": [
      "c:\\Python\\Python310\\lib\\site-packages\\sklearn\\linear_model\\_logistic.py:444: ConvergenceWarning: lbfgs failed to converge (status=1):\n",
      "STOP: TOTAL NO. of ITERATIONS REACHED LIMIT.\n",
      "\n",
      "Increase the number of iterations (max_iter) or scale the data as shown in:\n",
      "    https://scikit-learn.org/stable/modules/preprocessing.html\n",
      "Please also refer to the documentation for alternative solver options:\n",
      "    https://scikit-learn.org/stable/modules/linear_model.html#logistic-regression\n",
      "  n_iter_i = _check_optimize_result(\n"
     ]
    },
    {
     "name": "stdout",
     "output_type": "stream",
     "text": [
      "[CV 5/5] END ...............intercept_scaling=7;, score=0.883 total time=   0.2s\n"
     ]
    },
    {
     "name": "stderr",
     "output_type": "stream",
     "text": [
      "c:\\Python\\Python310\\lib\\site-packages\\sklearn\\linear_model\\_logistic.py:444: ConvergenceWarning: lbfgs failed to converge (status=1):\n",
      "STOP: TOTAL NO. of ITERATIONS REACHED LIMIT.\n",
      "\n",
      "Increase the number of iterations (max_iter) or scale the data as shown in:\n",
      "    https://scikit-learn.org/stable/modules/preprocessing.html\n",
      "Please also refer to the documentation for alternative solver options:\n",
      "    https://scikit-learn.org/stable/modules/linear_model.html#logistic-regression\n",
      "  n_iter_i = _check_optimize_result(\n"
     ]
    },
    {
     "name": "stdout",
     "output_type": "stream",
     "text": [
      "[CV 1/5] END ...............intercept_scaling=8;, score=0.880 total time=   0.2s\n"
     ]
    },
    {
     "name": "stderr",
     "output_type": "stream",
     "text": [
      "c:\\Python\\Python310\\lib\\site-packages\\sklearn\\linear_model\\_logistic.py:444: ConvergenceWarning: lbfgs failed to converge (status=1):\n",
      "STOP: TOTAL NO. of ITERATIONS REACHED LIMIT.\n",
      "\n",
      "Increase the number of iterations (max_iter) or scale the data as shown in:\n",
      "    https://scikit-learn.org/stable/modules/preprocessing.html\n",
      "Please also refer to the documentation for alternative solver options:\n",
      "    https://scikit-learn.org/stable/modules/linear_model.html#logistic-regression\n",
      "  n_iter_i = _check_optimize_result(\n"
     ]
    },
    {
     "name": "stdout",
     "output_type": "stream",
     "text": [
      "[CV 2/5] END ...............intercept_scaling=8;, score=0.882 total time=   0.2s\n"
     ]
    },
    {
     "name": "stderr",
     "output_type": "stream",
     "text": [
      "c:\\Python\\Python310\\lib\\site-packages\\sklearn\\linear_model\\_logistic.py:444: ConvergenceWarning: lbfgs failed to converge (status=1):\n",
      "STOP: TOTAL NO. of ITERATIONS REACHED LIMIT.\n",
      "\n",
      "Increase the number of iterations (max_iter) or scale the data as shown in:\n",
      "    https://scikit-learn.org/stable/modules/preprocessing.html\n",
      "Please also refer to the documentation for alternative solver options:\n",
      "    https://scikit-learn.org/stable/modules/linear_model.html#logistic-regression\n",
      "  n_iter_i = _check_optimize_result(\n"
     ]
    },
    {
     "name": "stdout",
     "output_type": "stream",
     "text": [
      "[CV 3/5] END ...............intercept_scaling=8;, score=0.887 total time=   0.3s\n",
      "[CV 4/5] END ...............intercept_scaling=8;, score=0.889 total time=   0.2s\n"
     ]
    },
    {
     "name": "stderr",
     "output_type": "stream",
     "text": [
      "c:\\Python\\Python310\\lib\\site-packages\\sklearn\\linear_model\\_logistic.py:444: ConvergenceWarning: lbfgs failed to converge (status=1):\n",
      "STOP: TOTAL NO. of ITERATIONS REACHED LIMIT.\n",
      "\n",
      "Increase the number of iterations (max_iter) or scale the data as shown in:\n",
      "    https://scikit-learn.org/stable/modules/preprocessing.html\n",
      "Please also refer to the documentation for alternative solver options:\n",
      "    https://scikit-learn.org/stable/modules/linear_model.html#logistic-regression\n",
      "  n_iter_i = _check_optimize_result(\n"
     ]
    },
    {
     "name": "stdout",
     "output_type": "stream",
     "text": [
      "[CV 5/5] END ...............intercept_scaling=8;, score=0.883 total time=   0.2s\n"
     ]
    },
    {
     "name": "stderr",
     "output_type": "stream",
     "text": [
      "c:\\Python\\Python310\\lib\\site-packages\\sklearn\\linear_model\\_logistic.py:444: ConvergenceWarning: lbfgs failed to converge (status=1):\n",
      "STOP: TOTAL NO. of ITERATIONS REACHED LIMIT.\n",
      "\n",
      "Increase the number of iterations (max_iter) or scale the data as shown in:\n",
      "    https://scikit-learn.org/stable/modules/preprocessing.html\n",
      "Please also refer to the documentation for alternative solver options:\n",
      "    https://scikit-learn.org/stable/modules/linear_model.html#logistic-regression\n",
      "  n_iter_i = _check_optimize_result(\n"
     ]
    },
    {
     "name": "stdout",
     "output_type": "stream",
     "text": [
      "[CV 1/5] END ...............intercept_scaling=9;, score=0.880 total time=   0.2s\n"
     ]
    },
    {
     "name": "stderr",
     "output_type": "stream",
     "text": [
      "c:\\Python\\Python310\\lib\\site-packages\\sklearn\\linear_model\\_logistic.py:444: ConvergenceWarning: lbfgs failed to converge (status=1):\n",
      "STOP: TOTAL NO. of ITERATIONS REACHED LIMIT.\n",
      "\n",
      "Increase the number of iterations (max_iter) or scale the data as shown in:\n",
      "    https://scikit-learn.org/stable/modules/preprocessing.html\n",
      "Please also refer to the documentation for alternative solver options:\n",
      "    https://scikit-learn.org/stable/modules/linear_model.html#logistic-regression\n",
      "  n_iter_i = _check_optimize_result(\n"
     ]
    },
    {
     "name": "stdout",
     "output_type": "stream",
     "text": [
      "[CV 2/5] END ...............intercept_scaling=9;, score=0.882 total time=   0.2s\n"
     ]
    },
    {
     "name": "stderr",
     "output_type": "stream",
     "text": [
      "c:\\Python\\Python310\\lib\\site-packages\\sklearn\\linear_model\\_logistic.py:444: ConvergenceWarning: lbfgs failed to converge (status=1):\n",
      "STOP: TOTAL NO. of ITERATIONS REACHED LIMIT.\n",
      "\n",
      "Increase the number of iterations (max_iter) or scale the data as shown in:\n",
      "    https://scikit-learn.org/stable/modules/preprocessing.html\n",
      "Please also refer to the documentation for alternative solver options:\n",
      "    https://scikit-learn.org/stable/modules/linear_model.html#logistic-regression\n",
      "  n_iter_i = _check_optimize_result(\n"
     ]
    },
    {
     "name": "stdout",
     "output_type": "stream",
     "text": [
      "[CV 3/5] END ...............intercept_scaling=9;, score=0.887 total time=   0.2s\n",
      "[CV 4/5] END ...............intercept_scaling=9;, score=0.889 total time=   0.2s\n"
     ]
    },
    {
     "name": "stderr",
     "output_type": "stream",
     "text": [
      "c:\\Python\\Python310\\lib\\site-packages\\sklearn\\linear_model\\_logistic.py:444: ConvergenceWarning: lbfgs failed to converge (status=1):\n",
      "STOP: TOTAL NO. of ITERATIONS REACHED LIMIT.\n",
      "\n",
      "Increase the number of iterations (max_iter) or scale the data as shown in:\n",
      "    https://scikit-learn.org/stable/modules/preprocessing.html\n",
      "Please also refer to the documentation for alternative solver options:\n",
      "    https://scikit-learn.org/stable/modules/linear_model.html#logistic-regression\n",
      "  n_iter_i = _check_optimize_result(\n"
     ]
    },
    {
     "name": "stdout",
     "output_type": "stream",
     "text": [
      "[CV 5/5] END ...............intercept_scaling=9;, score=0.883 total time=   0.2s\n"
     ]
    },
    {
     "name": "stderr",
     "output_type": "stream",
     "text": [
      "c:\\Python\\Python310\\lib\\site-packages\\sklearn\\linear_model\\_logistic.py:444: ConvergenceWarning: lbfgs failed to converge (status=1):\n",
      "STOP: TOTAL NO. of ITERATIONS REACHED LIMIT.\n",
      "\n",
      "Increase the number of iterations (max_iter) or scale the data as shown in:\n",
      "    https://scikit-learn.org/stable/modules/preprocessing.html\n",
      "Please also refer to the documentation for alternative solver options:\n",
      "    https://scikit-learn.org/stable/modules/linear_model.html#logistic-regression\n",
      "  n_iter_i = _check_optimize_result(\n"
     ]
    },
    {
     "name": "stdout",
     "output_type": "stream",
     "text": [
      "[CV 1/5] END ..............intercept_scaling=10;, score=0.880 total time=   0.2s\n"
     ]
    },
    {
     "name": "stderr",
     "output_type": "stream",
     "text": [
      "c:\\Python\\Python310\\lib\\site-packages\\sklearn\\linear_model\\_logistic.py:444: ConvergenceWarning: lbfgs failed to converge (status=1):\n",
      "STOP: TOTAL NO. of ITERATIONS REACHED LIMIT.\n",
      "\n",
      "Increase the number of iterations (max_iter) or scale the data as shown in:\n",
      "    https://scikit-learn.org/stable/modules/preprocessing.html\n",
      "Please also refer to the documentation for alternative solver options:\n",
      "    https://scikit-learn.org/stable/modules/linear_model.html#logistic-regression\n",
      "  n_iter_i = _check_optimize_result(\n"
     ]
    },
    {
     "name": "stdout",
     "output_type": "stream",
     "text": [
      "[CV 2/5] END ..............intercept_scaling=10;, score=0.882 total time=   0.2s\n"
     ]
    },
    {
     "name": "stderr",
     "output_type": "stream",
     "text": [
      "c:\\Python\\Python310\\lib\\site-packages\\sklearn\\linear_model\\_logistic.py:444: ConvergenceWarning: lbfgs failed to converge (status=1):\n",
      "STOP: TOTAL NO. of ITERATIONS REACHED LIMIT.\n",
      "\n",
      "Increase the number of iterations (max_iter) or scale the data as shown in:\n",
      "    https://scikit-learn.org/stable/modules/preprocessing.html\n",
      "Please also refer to the documentation for alternative solver options:\n",
      "    https://scikit-learn.org/stable/modules/linear_model.html#logistic-regression\n",
      "  n_iter_i = _check_optimize_result(\n"
     ]
    },
    {
     "name": "stdout",
     "output_type": "stream",
     "text": [
      "[CV 3/5] END ..............intercept_scaling=10;, score=0.887 total time=   0.2s\n",
      "[CV 4/5] END ..............intercept_scaling=10;, score=0.889 total time=   0.2s\n"
     ]
    },
    {
     "name": "stderr",
     "output_type": "stream",
     "text": [
      "c:\\Python\\Python310\\lib\\site-packages\\sklearn\\linear_model\\_logistic.py:444: ConvergenceWarning: lbfgs failed to converge (status=1):\n",
      "STOP: TOTAL NO. of ITERATIONS REACHED LIMIT.\n",
      "\n",
      "Increase the number of iterations (max_iter) or scale the data as shown in:\n",
      "    https://scikit-learn.org/stable/modules/preprocessing.html\n",
      "Please also refer to the documentation for alternative solver options:\n",
      "    https://scikit-learn.org/stable/modules/linear_model.html#logistic-regression\n",
      "  n_iter_i = _check_optimize_result(\n"
     ]
    },
    {
     "name": "stdout",
     "output_type": "stream",
     "text": [
      "[CV 5/5] END ..............intercept_scaling=10;, score=0.883 total time=   0.2s\n"
     ]
    },
    {
     "name": "stderr",
     "output_type": "stream",
     "text": [
      "c:\\Python\\Python310\\lib\\site-packages\\sklearn\\linear_model\\_logistic.py:444: ConvergenceWarning: lbfgs failed to converge (status=1):\n",
      "STOP: TOTAL NO. of ITERATIONS REACHED LIMIT.\n",
      "\n",
      "Increase the number of iterations (max_iter) or scale the data as shown in:\n",
      "    https://scikit-learn.org/stable/modules/preprocessing.html\n",
      "Please also refer to the documentation for alternative solver options:\n",
      "    https://scikit-learn.org/stable/modules/linear_model.html#logistic-regression\n",
      "  n_iter_i = _check_optimize_result(\n"
     ]
    },
    {
     "name": "stdout",
     "output_type": "stream",
     "text": [
      "[CV 1/5] END ..............intercept_scaling=12;, score=0.880 total time=   0.2s\n"
     ]
    },
    {
     "name": "stderr",
     "output_type": "stream",
     "text": [
      "c:\\Python\\Python310\\lib\\site-packages\\sklearn\\linear_model\\_logistic.py:444: ConvergenceWarning: lbfgs failed to converge (status=1):\n",
      "STOP: TOTAL NO. of ITERATIONS REACHED LIMIT.\n",
      "\n",
      "Increase the number of iterations (max_iter) or scale the data as shown in:\n",
      "    https://scikit-learn.org/stable/modules/preprocessing.html\n",
      "Please also refer to the documentation for alternative solver options:\n",
      "    https://scikit-learn.org/stable/modules/linear_model.html#logistic-regression\n",
      "  n_iter_i = _check_optimize_result(\n"
     ]
    },
    {
     "name": "stdout",
     "output_type": "stream",
     "text": [
      "[CV 2/5] END ..............intercept_scaling=12;, score=0.882 total time=   0.2s\n"
     ]
    },
    {
     "name": "stderr",
     "output_type": "stream",
     "text": [
      "c:\\Python\\Python310\\lib\\site-packages\\sklearn\\linear_model\\_logistic.py:444: ConvergenceWarning: lbfgs failed to converge (status=1):\n",
      "STOP: TOTAL NO. of ITERATIONS REACHED LIMIT.\n",
      "\n",
      "Increase the number of iterations (max_iter) or scale the data as shown in:\n",
      "    https://scikit-learn.org/stable/modules/preprocessing.html\n",
      "Please also refer to the documentation for alternative solver options:\n",
      "    https://scikit-learn.org/stable/modules/linear_model.html#logistic-regression\n",
      "  n_iter_i = _check_optimize_result(\n"
     ]
    },
    {
     "name": "stdout",
     "output_type": "stream",
     "text": [
      "[CV 3/5] END ..............intercept_scaling=12;, score=0.887 total time=   0.2s\n",
      "[CV 4/5] END ..............intercept_scaling=12;, score=0.889 total time=   0.2s\n"
     ]
    },
    {
     "name": "stderr",
     "output_type": "stream",
     "text": [
      "c:\\Python\\Python310\\lib\\site-packages\\sklearn\\linear_model\\_logistic.py:444: ConvergenceWarning: lbfgs failed to converge (status=1):\n",
      "STOP: TOTAL NO. of ITERATIONS REACHED LIMIT.\n",
      "\n",
      "Increase the number of iterations (max_iter) or scale the data as shown in:\n",
      "    https://scikit-learn.org/stable/modules/preprocessing.html\n",
      "Please also refer to the documentation for alternative solver options:\n",
      "    https://scikit-learn.org/stable/modules/linear_model.html#logistic-regression\n",
      "  n_iter_i = _check_optimize_result(\n",
      "c:\\Python\\Python310\\lib\\site-packages\\sklearn\\linear_model\\_logistic.py:444: ConvergenceWarning: lbfgs failed to converge (status=1):\n",
      "STOP: TOTAL NO. of ITERATIONS REACHED LIMIT.\n",
      "\n",
      "Increase the number of iterations (max_iter) or scale the data as shown in:\n",
      "    https://scikit-learn.org/stable/modules/preprocessing.html\n",
      "Please also refer to the documentation for alternative solver options:\n",
      "    https://scikit-learn.org/stable/modules/linear_model.html#logistic-regression\n",
      "  n_iter_i = _check_optimize_result(\n",
      "c:\\Python\\Python310\\lib\\site-packages\\sklearn\\linear_model\\_logistic.py:444: ConvergenceWarning: lbfgs failed to converge (status=1):\n",
      "STOP: TOTAL NO. of ITERATIONS REACHED LIMIT.\n",
      "\n",
      "Increase the number of iterations (max_iter) or scale the data as shown in:\n",
      "    https://scikit-learn.org/stable/modules/preprocessing.html\n",
      "Please also refer to the documentation for alternative solver options:\n",
      "    https://scikit-learn.org/stable/modules/linear_model.html#logistic-regression\n",
      "  n_iter_i = _check_optimize_result(\n",
      "c:\\Python\\Python310\\lib\\site-packages\\sklearn\\linear_model\\_logistic.py:444: ConvergenceWarning: lbfgs failed to converge (status=1):\n",
      "STOP: TOTAL NO. of ITERATIONS REACHED LIMIT.\n",
      "\n",
      "Increase the number of iterations (max_iter) or scale the data as shown in:\n",
      "    https://scikit-learn.org/stable/modules/preprocessing.html\n",
      "Please also refer to the documentation for alternative solver options:\n",
      "    https://scikit-learn.org/stable/modules/linear_model.html#logistic-regression\n",
      "  n_iter_i = _check_optimize_result(\n",
      "c:\\Python\\Python310\\lib\\site-packages\\sklearn\\linear_model\\_logistic.py:444: ConvergenceWarning: lbfgs failed to converge (status=1):\n",
      "STOP: TOTAL NO. of ITERATIONS REACHED LIMIT.\n",
      "\n",
      "Increase the number of iterations (max_iter) or scale the data as shown in:\n",
      "    https://scikit-learn.org/stable/modules/preprocessing.html\n",
      "Please also refer to the documentation for alternative solver options:\n",
      "    https://scikit-learn.org/stable/modules/linear_model.html#logistic-regression\n",
      "  n_iter_i = _check_optimize_result(\n",
      "c:\\Python\\Python310\\lib\\site-packages\\sklearn\\linear_model\\_logistic.py:444: ConvergenceWarning: lbfgs failed to converge (status=1):\n",
      "STOP: TOTAL NO. of ITERATIONS REACHED LIMIT.\n",
      "\n",
      "Increase the number of iterations (max_iter) or scale the data as shown in:\n",
      "    https://scikit-learn.org/stable/modules/preprocessing.html\n",
      "Please also refer to the documentation for alternative solver options:\n",
      "    https://scikit-learn.org/stable/modules/linear_model.html#logistic-regression\n",
      "  n_iter_i = _check_optimize_result(\n",
      "c:\\Python\\Python310\\lib\\site-packages\\sklearn\\linear_model\\_logistic.py:444: ConvergenceWarning: lbfgs failed to converge (status=1):\n",
      "STOP: TOTAL NO. of ITERATIONS REACHED LIMIT.\n",
      "\n",
      "Increase the number of iterations (max_iter) or scale the data as shown in:\n",
      "    https://scikit-learn.org/stable/modules/preprocessing.html\n",
      "Please also refer to the documentation for alternative solver options:\n",
      "    https://scikit-learn.org/stable/modules/linear_model.html#logistic-regression\n",
      "  n_iter_i = _check_optimize_result(\n",
      "c:\\Python\\Python310\\lib\\site-packages\\sklearn\\linear_model\\_logistic.py:444: ConvergenceWarning: lbfgs failed to converge (status=1):\n",
      "STOP: TOTAL NO. of ITERATIONS REACHED LIMIT.\n",
      "\n",
      "Increase the number of iterations (max_iter) or scale the data as shown in:\n",
      "    https://scikit-learn.org/stable/modules/preprocessing.html\n",
      "Please also refer to the documentation for alternative solver options:\n",
      "    https://scikit-learn.org/stable/modules/linear_model.html#logistic-regression\n",
      "  n_iter_i = _check_optimize_result(\n",
      "c:\\Python\\Python310\\lib\\site-packages\\sklearn\\linear_model\\_logistic.py:444: ConvergenceWarning: lbfgs failed to converge (status=1):\n",
      "STOP: TOTAL NO. of ITERATIONS REACHED LIMIT.\n",
      "\n",
      "Increase the number of iterations (max_iter) or scale the data as shown in:\n",
      "    https://scikit-learn.org/stable/modules/preprocessing.html\n",
      "Please also refer to the documentation for alternative solver options:\n",
      "    https://scikit-learn.org/stable/modules/linear_model.html#logistic-regression\n",
      "  n_iter_i = _check_optimize_result(\n",
      "c:\\Python\\Python310\\lib\\site-packages\\sklearn\\linear_model\\_logistic.py:444: ConvergenceWarning: lbfgs failed to converge (status=1):\n",
      "STOP: TOTAL NO. of ITERATIONS REACHED LIMIT.\n",
      "\n",
      "Increase the number of iterations (max_iter) or scale the data as shown in:\n",
      "    https://scikit-learn.org/stable/modules/preprocessing.html\n",
      "Please also refer to the documentation for alternative solver options:\n",
      "    https://scikit-learn.org/stable/modules/linear_model.html#logistic-regression\n",
      "  n_iter_i = _check_optimize_result(\n"
     ]
    },
    {
     "name": "stdout",
     "output_type": "stream",
     "text": [
      "[CV 5/5] END ..............intercept_scaling=12;, score=0.883 total time=   0.2s\n",
      "[CV 1/5] END ........................max_iter=2;, score=0.859 total time=   0.0s\n",
      "[CV 2/5] END ........................max_iter=2;, score=0.859 total time=   0.0s\n",
      "[CV 3/5] END ........................max_iter=2;, score=0.859 total time=   0.0s\n",
      "[CV 4/5] END ........................max_iter=2;, score=0.859 total time=   0.0s\n",
      "[CV 5/5] END ........................max_iter=2;, score=0.859 total time=   0.0s\n",
      "[CV 1/5] END ........................max_iter=4;, score=0.867 total time=   0.0s\n",
      "[CV 2/5] END ........................max_iter=4;, score=0.871 total time=   0.0s\n",
      "[CV 3/5] END ........................max_iter=4;, score=0.868 total time=   0.0s\n",
      "[CV 4/5] END ........................max_iter=4;, score=0.872 total time=   0.0s\n"
     ]
    },
    {
     "name": "stderr",
     "output_type": "stream",
     "text": [
      "c:\\Python\\Python310\\lib\\site-packages\\sklearn\\linear_model\\_logistic.py:444: ConvergenceWarning: lbfgs failed to converge (status=1):\n",
      "STOP: TOTAL NO. of ITERATIONS REACHED LIMIT.\n",
      "\n",
      "Increase the number of iterations (max_iter) or scale the data as shown in:\n",
      "    https://scikit-learn.org/stable/modules/preprocessing.html\n",
      "Please also refer to the documentation for alternative solver options:\n",
      "    https://scikit-learn.org/stable/modules/linear_model.html#logistic-regression\n",
      "  n_iter_i = _check_optimize_result(\n",
      "c:\\Python\\Python310\\lib\\site-packages\\sklearn\\linear_model\\_logistic.py:444: ConvergenceWarning: lbfgs failed to converge (status=1):\n",
      "STOP: TOTAL NO. of ITERATIONS REACHED LIMIT.\n",
      "\n",
      "Increase the number of iterations (max_iter) or scale the data as shown in:\n",
      "    https://scikit-learn.org/stable/modules/preprocessing.html\n",
      "Please also refer to the documentation for alternative solver options:\n",
      "    https://scikit-learn.org/stable/modules/linear_model.html#logistic-regression\n",
      "  n_iter_i = _check_optimize_result(\n",
      "c:\\Python\\Python310\\lib\\site-packages\\sklearn\\linear_model\\_logistic.py:444: ConvergenceWarning: lbfgs failed to converge (status=1):\n",
      "STOP: TOTAL NO. of ITERATIONS REACHED LIMIT.\n",
      "\n",
      "Increase the number of iterations (max_iter) or scale the data as shown in:\n",
      "    https://scikit-learn.org/stable/modules/preprocessing.html\n",
      "Please also refer to the documentation for alternative solver options:\n",
      "    https://scikit-learn.org/stable/modules/linear_model.html#logistic-regression\n",
      "  n_iter_i = _check_optimize_result(\n",
      "c:\\Python\\Python310\\lib\\site-packages\\sklearn\\linear_model\\_logistic.py:444: ConvergenceWarning: lbfgs failed to converge (status=1):\n",
      "STOP: TOTAL NO. of ITERATIONS REACHED LIMIT.\n",
      "\n",
      "Increase the number of iterations (max_iter) or scale the data as shown in:\n",
      "    https://scikit-learn.org/stable/modules/preprocessing.html\n",
      "Please also refer to the documentation for alternative solver options:\n",
      "    https://scikit-learn.org/stable/modules/linear_model.html#logistic-regression\n",
      "  n_iter_i = _check_optimize_result(\n",
      "c:\\Python\\Python310\\lib\\site-packages\\sklearn\\linear_model\\_logistic.py:444: ConvergenceWarning: lbfgs failed to converge (status=1):\n",
      "STOP: TOTAL NO. of ITERATIONS REACHED LIMIT.\n",
      "\n",
      "Increase the number of iterations (max_iter) or scale the data as shown in:\n",
      "    https://scikit-learn.org/stable/modules/preprocessing.html\n",
      "Please also refer to the documentation for alternative solver options:\n",
      "    https://scikit-learn.org/stable/modules/linear_model.html#logistic-regression\n",
      "  n_iter_i = _check_optimize_result(\n",
      "c:\\Python\\Python310\\lib\\site-packages\\sklearn\\linear_model\\_logistic.py:444: ConvergenceWarning: lbfgs failed to converge (status=1):\n",
      "STOP: TOTAL NO. of ITERATIONS REACHED LIMIT.\n",
      "\n",
      "Increase the number of iterations (max_iter) or scale the data as shown in:\n",
      "    https://scikit-learn.org/stable/modules/preprocessing.html\n",
      "Please also refer to the documentation for alternative solver options:\n",
      "    https://scikit-learn.org/stable/modules/linear_model.html#logistic-regression\n",
      "  n_iter_i = _check_optimize_result(\n",
      "c:\\Python\\Python310\\lib\\site-packages\\sklearn\\linear_model\\_logistic.py:444: ConvergenceWarning: lbfgs failed to converge (status=1):\n",
      "STOP: TOTAL NO. of ITERATIONS REACHED LIMIT.\n",
      "\n",
      "Increase the number of iterations (max_iter) or scale the data as shown in:\n",
      "    https://scikit-learn.org/stable/modules/preprocessing.html\n",
      "Please also refer to the documentation for alternative solver options:\n",
      "    https://scikit-learn.org/stable/modules/linear_model.html#logistic-regression\n",
      "  n_iter_i = _check_optimize_result(\n"
     ]
    },
    {
     "name": "stdout",
     "output_type": "stream",
     "text": [
      "[CV 5/5] END ........................max_iter=4;, score=0.869 total time=   0.0s\n",
      "[CV 1/5] END ........................max_iter=6;, score=0.879 total time=   0.0s\n",
      "[CV 2/5] END ........................max_iter=6;, score=0.879 total time=   0.0s\n",
      "[CV 3/5] END ........................max_iter=6;, score=0.880 total time=   0.0s\n",
      "[CV 4/5] END ........................max_iter=6;, score=0.880 total time=   0.0s\n",
      "[CV 5/5] END ........................max_iter=6;, score=0.876 total time=   0.0s\n",
      "[CV 1/5] END ........................max_iter=8;, score=0.881 total time=   0.0s\n"
     ]
    },
    {
     "name": "stderr",
     "output_type": "stream",
     "text": [
      "c:\\Python\\Python310\\lib\\site-packages\\sklearn\\linear_model\\_logistic.py:444: ConvergenceWarning: lbfgs failed to converge (status=1):\n",
      "STOP: TOTAL NO. of ITERATIONS REACHED LIMIT.\n",
      "\n",
      "Increase the number of iterations (max_iter) or scale the data as shown in:\n",
      "    https://scikit-learn.org/stable/modules/preprocessing.html\n",
      "Please also refer to the documentation for alternative solver options:\n",
      "    https://scikit-learn.org/stable/modules/linear_model.html#logistic-regression\n",
      "  n_iter_i = _check_optimize_result(\n",
      "c:\\Python\\Python310\\lib\\site-packages\\sklearn\\linear_model\\_logistic.py:444: ConvergenceWarning: lbfgs failed to converge (status=1):\n",
      "STOP: TOTAL NO. of ITERATIONS REACHED LIMIT.\n",
      "\n",
      "Increase the number of iterations (max_iter) or scale the data as shown in:\n",
      "    https://scikit-learn.org/stable/modules/preprocessing.html\n",
      "Please also refer to the documentation for alternative solver options:\n",
      "    https://scikit-learn.org/stable/modules/linear_model.html#logistic-regression\n",
      "  n_iter_i = _check_optimize_result(\n",
      "c:\\Python\\Python310\\lib\\site-packages\\sklearn\\linear_model\\_logistic.py:444: ConvergenceWarning: lbfgs failed to converge (status=1):\n",
      "STOP: TOTAL NO. of ITERATIONS REACHED LIMIT.\n",
      "\n",
      "Increase the number of iterations (max_iter) or scale the data as shown in:\n",
      "    https://scikit-learn.org/stable/modules/preprocessing.html\n",
      "Please also refer to the documentation for alternative solver options:\n",
      "    https://scikit-learn.org/stable/modules/linear_model.html#logistic-regression\n",
      "  n_iter_i = _check_optimize_result(\n",
      "c:\\Python\\Python310\\lib\\site-packages\\sklearn\\linear_model\\_logistic.py:444: ConvergenceWarning: lbfgs failed to converge (status=1):\n",
      "STOP: TOTAL NO. of ITERATIONS REACHED LIMIT.\n",
      "\n",
      "Increase the number of iterations (max_iter) or scale the data as shown in:\n",
      "    https://scikit-learn.org/stable/modules/preprocessing.html\n",
      "Please also refer to the documentation for alternative solver options:\n",
      "    https://scikit-learn.org/stable/modules/linear_model.html#logistic-regression\n",
      "  n_iter_i = _check_optimize_result(\n",
      "c:\\Python\\Python310\\lib\\site-packages\\sklearn\\linear_model\\_logistic.py:444: ConvergenceWarning: lbfgs failed to converge (status=1):\n",
      "STOP: TOTAL NO. of ITERATIONS REACHED LIMIT.\n",
      "\n",
      "Increase the number of iterations (max_iter) or scale the data as shown in:\n",
      "    https://scikit-learn.org/stable/modules/preprocessing.html\n",
      "Please also refer to the documentation for alternative solver options:\n",
      "    https://scikit-learn.org/stable/modules/linear_model.html#logistic-regression\n",
      "  n_iter_i = _check_optimize_result(\n",
      "c:\\Python\\Python310\\lib\\site-packages\\sklearn\\linear_model\\_logistic.py:444: ConvergenceWarning: lbfgs failed to converge (status=1):\n",
      "STOP: TOTAL NO. of ITERATIONS REACHED LIMIT.\n",
      "\n",
      "Increase the number of iterations (max_iter) or scale the data as shown in:\n",
      "    https://scikit-learn.org/stable/modules/preprocessing.html\n",
      "Please also refer to the documentation for alternative solver options:\n",
      "    https://scikit-learn.org/stable/modules/linear_model.html#logistic-regression\n",
      "  n_iter_i = _check_optimize_result(\n"
     ]
    },
    {
     "name": "stdout",
     "output_type": "stream",
     "text": [
      "[CV 2/5] END ........................max_iter=8;, score=0.881 total time=   0.0s\n",
      "[CV 3/5] END ........................max_iter=8;, score=0.885 total time=   0.0s\n",
      "[CV 4/5] END ........................max_iter=8;, score=0.887 total time=   0.0s\n",
      "[CV 5/5] END ........................max_iter=8;, score=0.881 total time=   0.0s\n",
      "[CV 1/5] END ........................max_iter=9;, score=0.881 total time=   0.0s\n",
      "[CV 2/5] END ........................max_iter=9;, score=0.880 total time=   0.0s\n"
     ]
    },
    {
     "name": "stderr",
     "output_type": "stream",
     "text": [
      "c:\\Python\\Python310\\lib\\site-packages\\sklearn\\linear_model\\_logistic.py:444: ConvergenceWarning: lbfgs failed to converge (status=1):\n",
      "STOP: TOTAL NO. of ITERATIONS REACHED LIMIT.\n",
      "\n",
      "Increase the number of iterations (max_iter) or scale the data as shown in:\n",
      "    https://scikit-learn.org/stable/modules/preprocessing.html\n",
      "Please also refer to the documentation for alternative solver options:\n",
      "    https://scikit-learn.org/stable/modules/linear_model.html#logistic-regression\n",
      "  n_iter_i = _check_optimize_result(\n",
      "c:\\Python\\Python310\\lib\\site-packages\\sklearn\\linear_model\\_logistic.py:444: ConvergenceWarning: lbfgs failed to converge (status=1):\n",
      "STOP: TOTAL NO. of ITERATIONS REACHED LIMIT.\n",
      "\n",
      "Increase the number of iterations (max_iter) or scale the data as shown in:\n",
      "    https://scikit-learn.org/stable/modules/preprocessing.html\n",
      "Please also refer to the documentation for alternative solver options:\n",
      "    https://scikit-learn.org/stable/modules/linear_model.html#logistic-regression\n",
      "  n_iter_i = _check_optimize_result(\n",
      "c:\\Python\\Python310\\lib\\site-packages\\sklearn\\linear_model\\_logistic.py:444: ConvergenceWarning: lbfgs failed to converge (status=1):\n",
      "STOP: TOTAL NO. of ITERATIONS REACHED LIMIT.\n",
      "\n",
      "Increase the number of iterations (max_iter) or scale the data as shown in:\n",
      "    https://scikit-learn.org/stable/modules/preprocessing.html\n",
      "Please also refer to the documentation for alternative solver options:\n",
      "    https://scikit-learn.org/stable/modules/linear_model.html#logistic-regression\n",
      "  n_iter_i = _check_optimize_result(\n",
      "c:\\Python\\Python310\\lib\\site-packages\\sklearn\\linear_model\\_logistic.py:444: ConvergenceWarning: lbfgs failed to converge (status=1):\n",
      "STOP: TOTAL NO. of ITERATIONS REACHED LIMIT.\n",
      "\n",
      "Increase the number of iterations (max_iter) or scale the data as shown in:\n",
      "    https://scikit-learn.org/stable/modules/preprocessing.html\n",
      "Please also refer to the documentation for alternative solver options:\n",
      "    https://scikit-learn.org/stable/modules/linear_model.html#logistic-regression\n",
      "  n_iter_i = _check_optimize_result(\n",
      "c:\\Python\\Python310\\lib\\site-packages\\sklearn\\linear_model\\_logistic.py:444: ConvergenceWarning: lbfgs failed to converge (status=1):\n",
      "STOP: TOTAL NO. of ITERATIONS REACHED LIMIT.\n",
      "\n",
      "Increase the number of iterations (max_iter) or scale the data as shown in:\n",
      "    https://scikit-learn.org/stable/modules/preprocessing.html\n",
      "Please also refer to the documentation for alternative solver options:\n",
      "    https://scikit-learn.org/stable/modules/linear_model.html#logistic-regression\n",
      "  n_iter_i = _check_optimize_result(\n",
      "c:\\Python\\Python310\\lib\\site-packages\\sklearn\\linear_model\\_logistic.py:444: ConvergenceWarning: lbfgs failed to converge (status=1):\n",
      "STOP: TOTAL NO. of ITERATIONS REACHED LIMIT.\n",
      "\n",
      "Increase the number of iterations (max_iter) or scale the data as shown in:\n",
      "    https://scikit-learn.org/stable/modules/preprocessing.html\n",
      "Please also refer to the documentation for alternative solver options:\n",
      "    https://scikit-learn.org/stable/modules/linear_model.html#logistic-regression\n",
      "  n_iter_i = _check_optimize_result(\n"
     ]
    },
    {
     "name": "stdout",
     "output_type": "stream",
     "text": [
      "[CV 3/5] END ........................max_iter=9;, score=0.887 total time=   0.0s\n",
      "[CV 4/5] END ........................max_iter=9;, score=0.888 total time=   0.0s\n",
      "[CV 5/5] END ........................max_iter=9;, score=0.880 total time=   0.0s\n",
      "[CV 1/5] END .......................max_iter=10;, score=0.881 total time=   0.0s\n",
      "[CV 2/5] END .......................max_iter=10;, score=0.882 total time=   0.0s\n",
      "[CV 3/5] END .......................max_iter=10;, score=0.888 total time=   0.0s\n"
     ]
    },
    {
     "name": "stderr",
     "output_type": "stream",
     "text": [
      "c:\\Python\\Python310\\lib\\site-packages\\sklearn\\linear_model\\_logistic.py:444: ConvergenceWarning: lbfgs failed to converge (status=1):\n",
      "STOP: TOTAL NO. of ITERATIONS REACHED LIMIT.\n",
      "\n",
      "Increase the number of iterations (max_iter) or scale the data as shown in:\n",
      "    https://scikit-learn.org/stable/modules/preprocessing.html\n",
      "Please also refer to the documentation for alternative solver options:\n",
      "    https://scikit-learn.org/stable/modules/linear_model.html#logistic-regression\n",
      "  n_iter_i = _check_optimize_result(\n",
      "c:\\Python\\Python310\\lib\\site-packages\\sklearn\\linear_model\\_logistic.py:444: ConvergenceWarning: lbfgs failed to converge (status=1):\n",
      "STOP: TOTAL NO. of ITERATIONS REACHED LIMIT.\n",
      "\n",
      "Increase the number of iterations (max_iter) or scale the data as shown in:\n",
      "    https://scikit-learn.org/stable/modules/preprocessing.html\n",
      "Please also refer to the documentation for alternative solver options:\n",
      "    https://scikit-learn.org/stable/modules/linear_model.html#logistic-regression\n",
      "  n_iter_i = _check_optimize_result(\n",
      "c:\\Python\\Python310\\lib\\site-packages\\sklearn\\linear_model\\_logistic.py:444: ConvergenceWarning: lbfgs failed to converge (status=1):\n",
      "STOP: TOTAL NO. of ITERATIONS REACHED LIMIT.\n",
      "\n",
      "Increase the number of iterations (max_iter) or scale the data as shown in:\n",
      "    https://scikit-learn.org/stable/modules/preprocessing.html\n",
      "Please also refer to the documentation for alternative solver options:\n",
      "    https://scikit-learn.org/stable/modules/linear_model.html#logistic-regression\n",
      "  n_iter_i = _check_optimize_result(\n",
      "c:\\Python\\Python310\\lib\\site-packages\\sklearn\\linear_model\\_logistic.py:444: ConvergenceWarning: lbfgs failed to converge (status=1):\n",
      "STOP: TOTAL NO. of ITERATIONS REACHED LIMIT.\n",
      "\n",
      "Increase the number of iterations (max_iter) or scale the data as shown in:\n",
      "    https://scikit-learn.org/stable/modules/preprocessing.html\n",
      "Please also refer to the documentation for alternative solver options:\n",
      "    https://scikit-learn.org/stable/modules/linear_model.html#logistic-regression\n",
      "  n_iter_i = _check_optimize_result(\n",
      "c:\\Python\\Python310\\lib\\site-packages\\sklearn\\linear_model\\_logistic.py:444: ConvergenceWarning: lbfgs failed to converge (status=1):\n",
      "STOP: TOTAL NO. of ITERATIONS REACHED LIMIT.\n",
      "\n",
      "Increase the number of iterations (max_iter) or scale the data as shown in:\n",
      "    https://scikit-learn.org/stable/modules/preprocessing.html\n",
      "Please also refer to the documentation for alternative solver options:\n",
      "    https://scikit-learn.org/stable/modules/linear_model.html#logistic-regression\n",
      "  n_iter_i = _check_optimize_result(\n",
      "c:\\Python\\Python310\\lib\\site-packages\\sklearn\\linear_model\\_logistic.py:444: ConvergenceWarning: lbfgs failed to converge (status=1):\n",
      "STOP: TOTAL NO. of ITERATIONS REACHED LIMIT.\n",
      "\n",
      "Increase the number of iterations (max_iter) or scale the data as shown in:\n",
      "    https://scikit-learn.org/stable/modules/preprocessing.html\n",
      "Please also refer to the documentation for alternative solver options:\n",
      "    https://scikit-learn.org/stable/modules/linear_model.html#logistic-regression\n",
      "  n_iter_i = _check_optimize_result(\n",
      "c:\\Python\\Python310\\lib\\site-packages\\sklearn\\linear_model\\_logistic.py:444: ConvergenceWarning: lbfgs failed to converge (status=1):\n",
      "STOP: TOTAL NO. of ITERATIONS REACHED LIMIT.\n",
      "\n",
      "Increase the number of iterations (max_iter) or scale the data as shown in:\n",
      "    https://scikit-learn.org/stable/modules/preprocessing.html\n",
      "Please also refer to the documentation for alternative solver options:\n",
      "    https://scikit-learn.org/stable/modules/linear_model.html#logistic-regression\n",
      "  n_iter_i = _check_optimize_result(\n"
     ]
    },
    {
     "name": "stdout",
     "output_type": "stream",
     "text": [
      "[CV 4/5] END .......................max_iter=10;, score=0.888 total time=   0.0s\n",
      "[CV 5/5] END .......................max_iter=10;, score=0.882 total time=   0.0s\n",
      "[CV 1/5] END ........................max_iter=5;, score=0.874 total time=   0.0s\n",
      "[CV 2/5] END ........................max_iter=5;, score=0.877 total time=   0.0s\n",
      "[CV 3/5] END ........................max_iter=5;, score=0.875 total time=   0.0s\n",
      "[CV 4/5] END ........................max_iter=5;, score=0.879 total time=   0.0s\n",
      "[CV 5/5] END ........................max_iter=5;, score=0.872 total time=   0.0s\n"
     ]
    },
    {
     "name": "stderr",
     "output_type": "stream",
     "text": [
      "c:\\Python\\Python310\\lib\\site-packages\\sklearn\\linear_model\\_logistic.py:444: ConvergenceWarning: lbfgs failed to converge (status=1):\n",
      "STOP: TOTAL NO. of ITERATIONS REACHED LIMIT.\n",
      "\n",
      "Increase the number of iterations (max_iter) or scale the data as shown in:\n",
      "    https://scikit-learn.org/stable/modules/preprocessing.html\n",
      "Please also refer to the documentation for alternative solver options:\n",
      "    https://scikit-learn.org/stable/modules/linear_model.html#logistic-regression\n",
      "  n_iter_i = _check_optimize_result(\n"
     ]
    },
    {
     "data": {
      "text/html": [
       "<style>#sk-container-id-1 {color: black;background-color: white;}#sk-container-id-1 pre{padding: 0;}#sk-container-id-1 div.sk-toggleable {background-color: white;}#sk-container-id-1 label.sk-toggleable__label {cursor: pointer;display: block;width: 100%;margin-bottom: 0;padding: 0.3em;box-sizing: border-box;text-align: center;}#sk-container-id-1 label.sk-toggleable__label-arrow:before {content: \"▸\";float: left;margin-right: 0.25em;color: #696969;}#sk-container-id-1 label.sk-toggleable__label-arrow:hover:before {color: black;}#sk-container-id-1 div.sk-estimator:hover label.sk-toggleable__label-arrow:before {color: black;}#sk-container-id-1 div.sk-toggleable__content {max-height: 0;max-width: 0;overflow: hidden;text-align: left;background-color: #f0f8ff;}#sk-container-id-1 div.sk-toggleable__content pre {margin: 0.2em;color: black;border-radius: 0.25em;background-color: #f0f8ff;}#sk-container-id-1 input.sk-toggleable__control:checked~div.sk-toggleable__content {max-height: 200px;max-width: 100%;overflow: auto;}#sk-container-id-1 input.sk-toggleable__control:checked~label.sk-toggleable__label-arrow:before {content: \"▾\";}#sk-container-id-1 div.sk-estimator input.sk-toggleable__control:checked~label.sk-toggleable__label {background-color: #d4ebff;}#sk-container-id-1 div.sk-label input.sk-toggleable__control:checked~label.sk-toggleable__label {background-color: #d4ebff;}#sk-container-id-1 input.sk-hidden--visually {border: 0;clip: rect(1px 1px 1px 1px);clip: rect(1px, 1px, 1px, 1px);height: 1px;margin: -1px;overflow: hidden;padding: 0;position: absolute;width: 1px;}#sk-container-id-1 div.sk-estimator {font-family: monospace;background-color: #f0f8ff;border: 1px dotted black;border-radius: 0.25em;box-sizing: border-box;margin-bottom: 0.5em;}#sk-container-id-1 div.sk-estimator:hover {background-color: #d4ebff;}#sk-container-id-1 div.sk-parallel-item::after {content: \"\";width: 100%;border-bottom: 1px solid gray;flex-grow: 1;}#sk-container-id-1 div.sk-label:hover label.sk-toggleable__label {background-color: #d4ebff;}#sk-container-id-1 div.sk-serial::before {content: \"\";position: absolute;border-left: 1px solid gray;box-sizing: border-box;top: 0;bottom: 0;left: 50%;z-index: 0;}#sk-container-id-1 div.sk-serial {display: flex;flex-direction: column;align-items: center;background-color: white;padding-right: 0.2em;padding-left: 0.2em;position: relative;}#sk-container-id-1 div.sk-item {position: relative;z-index: 1;}#sk-container-id-1 div.sk-parallel {display: flex;align-items: stretch;justify-content: center;background-color: white;position: relative;}#sk-container-id-1 div.sk-item::before, #sk-container-id-1 div.sk-parallel-item::before {content: \"\";position: absolute;border-left: 1px solid gray;box-sizing: border-box;top: 0;bottom: 0;left: 50%;z-index: -1;}#sk-container-id-1 div.sk-parallel-item {display: flex;flex-direction: column;z-index: 1;position: relative;background-color: white;}#sk-container-id-1 div.sk-parallel-item:first-child::after {align-self: flex-end;width: 50%;}#sk-container-id-1 div.sk-parallel-item:last-child::after {align-self: flex-start;width: 50%;}#sk-container-id-1 div.sk-parallel-item:only-child::after {width: 0;}#sk-container-id-1 div.sk-dashed-wrapped {border: 1px dashed gray;margin: 0 0.4em 0.5em 0.4em;box-sizing: border-box;padding-bottom: 0.4em;background-color: white;}#sk-container-id-1 div.sk-label label {font-family: monospace;font-weight: bold;display: inline-block;line-height: 1.2em;}#sk-container-id-1 div.sk-label-container {text-align: center;}#sk-container-id-1 div.sk-container {/* jupyter's `normalize.less` sets `[hidden] { display: none; }` but bootstrap.min.css set `[hidden] { display: none !important; }` so we also need the `!important` here to be able to override the default hidden behavior on the sphinx rendered scikit-learn.org. See: https://github.com/scikit-learn/scikit-learn/issues/21755 */display: inline-block !important;position: relative;}#sk-container-id-1 div.sk-text-repr-fallback {display: none;}</style><div id=\"sk-container-id-1\" class=\"sk-top-container\"><div class=\"sk-text-repr-fallback\"><pre>GridSearchCV(cv=5, estimator=LogisticRegression(),\n",
       "             param_grid=[{&#x27;intercept_scaling&#x27;: [1, 2, 3, 4, 5, 5, 6, 7, 8, 9,\n",
       "                                                10, 12]},\n",
       "                         {&#x27;max_iter&#x27;: [2, 4, 6, 8, 9, 10, 5]}],\n",
       "             verbose=4)</pre><b>In a Jupyter environment, please rerun this cell to show the HTML representation or trust the notebook. <br />On GitHub, the HTML representation is unable to render, please try loading this page with nbviewer.org.</b></div><div class=\"sk-container\" hidden><div class=\"sk-item sk-dashed-wrapped\"><div class=\"sk-label-container\"><div class=\"sk-label sk-toggleable\"><input class=\"sk-toggleable__control sk-hidden--visually\" id=\"sk-estimator-id-1\" type=\"checkbox\" ><label for=\"sk-estimator-id-1\" class=\"sk-toggleable__label sk-toggleable__label-arrow\">GridSearchCV</label><div class=\"sk-toggleable__content\"><pre>GridSearchCV(cv=5, estimator=LogisticRegression(),\n",
       "             param_grid=[{&#x27;intercept_scaling&#x27;: [1, 2, 3, 4, 5, 5, 6, 7, 8, 9,\n",
       "                                                10, 12]},\n",
       "                         {&#x27;max_iter&#x27;: [2, 4, 6, 8, 9, 10, 5]}],\n",
       "             verbose=4)</pre></div></div></div><div class=\"sk-parallel\"><div class=\"sk-parallel-item\"><div class=\"sk-item\"><div class=\"sk-label-container\"><div class=\"sk-label sk-toggleable\"><input class=\"sk-toggleable__control sk-hidden--visually\" id=\"sk-estimator-id-2\" type=\"checkbox\" ><label for=\"sk-estimator-id-2\" class=\"sk-toggleable__label sk-toggleable__label-arrow\">estimator: LogisticRegression</label><div class=\"sk-toggleable__content\"><pre>LogisticRegression()</pre></div></div></div><div class=\"sk-serial\"><div class=\"sk-item\"><div class=\"sk-estimator sk-toggleable\"><input class=\"sk-toggleable__control sk-hidden--visually\" id=\"sk-estimator-id-3\" type=\"checkbox\" ><label for=\"sk-estimator-id-3\" class=\"sk-toggleable__label sk-toggleable__label-arrow\">LogisticRegression</label><div class=\"sk-toggleable__content\"><pre>LogisticRegression()</pre></div></div></div></div></div></div></div></div></div></div>"
      ],
      "text/plain": [
       "GridSearchCV(cv=5, estimator=LogisticRegression(),\n",
       "             param_grid=[{'intercept_scaling': [1, 2, 3, 4, 5, 5, 6, 7, 8, 9,\n",
       "                                                10, 12]},\n",
       "                         {'max_iter': [2, 4, 6, 8, 9, 10, 5]}],\n",
       "             verbose=4)"
      ]
     },
     "execution_count": 17,
     "metadata": {},
     "output_type": "execute_result"
    }
   ],
   "source": [
    "## parameter du grid\n",
    "params=[\n",
    "     {'intercept_scaling':[1,2,3,4,5,5,6,7,8,9,10,12]},\n",
    "    {'max_iter':[2, 4, 6, 8, 9, 10, 5]}\n",
    "]\n",
    "opt_lr=GridSearchCV(lr,params,cv=5,verbose=4)\n",
    "opt_lr.fit(X_Train,y_Train)"
   ]
  },
  {
   "cell_type": "code",
   "execution_count": 18,
   "metadata": {},
   "outputs": [
    {
     "name": "stdout",
     "output_type": "stream",
     "text": [
      "LogisticRegression()\n",
      "{'intercept_scaling': 1}\n",
      "0.8843230853399617\n"
     ]
    }
   ],
   "source": [
    "print(opt_lr.best_estimator_)\n",
    "print(opt_lr.best_params_)\n",
    "print(opt_lr.best_score_)"
   ]
  },
  {
   "cell_type": "code",
   "execution_count": null,
   "metadata": {},
   "outputs": [],
   "source": []
  },
  {
   "cell_type": "markdown",
   "metadata": {},
   "source": [
    "## implementation du modele KNN"
   ]
  },
  {
   "cell_type": "code",
   "execution_count": 23,
   "metadata": {},
   "outputs": [
    {
     "data": {
      "text/plain": [
       "array([0, 0, 0, ..., 0, 0, 1])"
      ]
     },
     "execution_count": 23,
     "metadata": {},
     "output_type": "execute_result"
    }
   ],
   "source": [
    "### 2 application d'un modele \n",
    "## appel de la fonction \n",
    "from sklearn.neighbors import KNeighborsClassifier ## le modele\n",
    "### 1 instanciation du modele\n",
    "model_knn= KNeighborsClassifier(n_neighbors=5)\n",
    "### 2 fitting du modele\n",
    "model_knn.fit(X_Train,y_Train)\n",
    "### 3 prediction \n",
    "pred = model_knn.predict(X_Val)\n",
    "pred"
   ]
  },
  {
   "cell_type": "code",
   "execution_count": 24,
   "metadata": {},
   "outputs": [
    {
     "name": "stdout",
     "output_type": "stream",
     "text": [
      "Fitting 5 folds for each of 19 candidates, totalling 95 fits\n",
      "[CV 1/5; 1/19] START n_neighbors=1..............................................\n",
      "[CV 1/5; 1/19] END ...............n_neighbors=1;, score=0.838 total time=   0.5s\n",
      "[CV 2/5; 1/19] START n_neighbors=1..............................................\n",
      "[CV 2/5; 1/19] END ...............n_neighbors=1;, score=0.833 total time=   0.6s\n",
      "[CV 3/5; 1/19] START n_neighbors=1..............................................\n",
      "[CV 3/5; 1/19] END ...............n_neighbors=1;, score=0.838 total time=   0.5s\n",
      "[CV 4/5; 1/19] START n_neighbors=1..............................................\n",
      "[CV 4/5; 1/19] END ...............n_neighbors=1;, score=0.833 total time=   0.5s\n",
      "[CV 5/5; 1/19] START n_neighbors=1..............................................\n",
      "[CV 5/5; 1/19] END ...............n_neighbors=1;, score=0.840 total time=   0.4s\n",
      "[CV 1/5; 2/19] START n_neighbors=2..............................................\n",
      "[CV 1/5; 2/19] END ...............n_neighbors=2;, score=0.872 total time=   0.5s\n",
      "[CV 2/5; 2/19] START n_neighbors=2..............................................\n",
      "[CV 2/5; 2/19] END ...............n_neighbors=2;, score=0.875 total time=   0.5s\n",
      "[CV 3/5; 2/19] START n_neighbors=2..............................................\n",
      "[CV 3/5; 2/19] END ...............n_neighbors=2;, score=0.872 total time=   0.5s\n",
      "[CV 4/5; 2/19] START n_neighbors=2..............................................\n",
      "[CV 4/5; 2/19] END ...............n_neighbors=2;, score=0.877 total time=   0.5s\n",
      "[CV 5/5; 2/19] START n_neighbors=2..............................................\n",
      "[CV 5/5; 2/19] END ...............n_neighbors=2;, score=0.877 total time=   0.5s\n",
      "[CV 1/5; 3/19] START n_neighbors=3..............................................\n",
      "[CV 1/5; 3/19] END ...............n_neighbors=3;, score=0.868 total time=   0.5s\n",
      "[CV 2/5; 3/19] START n_neighbors=3..............................................\n",
      "[CV 2/5; 3/19] END ...............n_neighbors=3;, score=0.867 total time=   0.4s\n",
      "[CV 3/5; 3/19] START n_neighbors=3..............................................\n",
      "[CV 3/5; 3/19] END ...............n_neighbors=3;, score=0.864 total time=   0.4s\n",
      "[CV 4/5; 3/19] START n_neighbors=3..............................................\n",
      "[CV 4/5; 3/19] END ...............n_neighbors=3;, score=0.868 total time=   0.4s\n",
      "[CV 5/5; 3/19] START n_neighbors=3..............................................\n",
      "[CV 5/5; 3/19] END ...............n_neighbors=3;, score=0.868 total time=   0.4s\n",
      "[CV 1/5; 4/19] START n_neighbors=4..............................................\n",
      "[CV 1/5; 4/19] END ...............n_neighbors=4;, score=0.873 total time=   0.6s\n",
      "[CV 2/5; 4/19] START n_neighbors=4..............................................\n",
      "[CV 2/5; 4/19] END ...............n_neighbors=4;, score=0.879 total time=   0.5s\n",
      "[CV 3/5; 4/19] START n_neighbors=4..............................................\n",
      "[CV 3/5; 4/19] END ...............n_neighbors=4;, score=0.875 total time=   0.5s\n",
      "[CV 4/5; 4/19] START n_neighbors=4..............................................\n",
      "[CV 4/5; 4/19] END ...............n_neighbors=4;, score=0.881 total time=   0.4s\n",
      "[CV 5/5; 4/19] START n_neighbors=4..............................................\n",
      "[CV 5/5; 4/19] END ...............n_neighbors=4;, score=0.879 total time=   0.4s\n",
      "[CV 1/5; 5/19] START n_neighbors=5..............................................\n",
      "[CV 1/5; 5/19] END ...............n_neighbors=5;, score=0.873 total time=   0.5s\n",
      "[CV 2/5; 5/19] START n_neighbors=5..............................................\n",
      "[CV 2/5; 5/19] END ...............n_neighbors=5;, score=0.877 total time=   0.4s\n",
      "[CV 3/5; 5/19] START n_neighbors=5..............................................\n",
      "[CV 3/5; 5/19] END ...............n_neighbors=5;, score=0.880 total time=   0.4s\n",
      "[CV 4/5; 5/19] START n_neighbors=5..............................................\n",
      "[CV 4/5; 5/19] END ...............n_neighbors=5;, score=0.879 total time=   0.4s\n",
      "[CV 5/5; 5/19] START n_neighbors=5..............................................\n",
      "[CV 5/5; 5/19] END ...............n_neighbors=5;, score=0.874 total time=   0.4s\n",
      "[CV 1/5; 6/19] START n_neighbors=5..............................................\n",
      "[CV 1/5; 6/19] END ...............n_neighbors=5;, score=0.873 total time=   1.8s\n",
      "[CV 2/5; 6/19] START n_neighbors=5..............................................\n",
      "[CV 2/5; 6/19] END ...............n_neighbors=5;, score=0.877 total time=   2.0s\n",
      "[CV 3/5; 6/19] START n_neighbors=5..............................................\n",
      "[CV 3/5; 6/19] END ...............n_neighbors=5;, score=0.880 total time=   0.6s\n",
      "[CV 4/5; 6/19] START n_neighbors=5..............................................\n",
      "[CV 4/5; 6/19] END ...............n_neighbors=5;, score=0.879 total time=   0.5s\n",
      "[CV 5/5; 6/19] START n_neighbors=5..............................................\n",
      "[CV 5/5; 6/19] END ...............n_neighbors=5;, score=0.874 total time=   0.5s\n",
      "[CV 1/5; 7/19] START n_neighbors=6..............................................\n",
      "[CV 1/5; 7/19] END ...............n_neighbors=6;, score=0.876 total time=   0.6s\n",
      "[CV 2/5; 7/19] START n_neighbors=6..............................................\n",
      "[CV 2/5; 7/19] END ...............n_neighbors=6;, score=0.880 total time=   0.4s\n",
      "[CV 3/5; 7/19] START n_neighbors=6..............................................\n",
      "[CV 3/5; 7/19] END ...............n_neighbors=6;, score=0.882 total time=   0.4s\n",
      "[CV 4/5; 7/19] START n_neighbors=6..............................................\n",
      "[CV 4/5; 7/19] END ...............n_neighbors=6;, score=0.882 total time=   0.4s\n",
      "[CV 5/5; 7/19] START n_neighbors=6..............................................\n",
      "[CV 5/5; 7/19] END ...............n_neighbors=6;, score=0.877 total time=   0.4s\n",
      "[CV 1/5; 8/19] START n_neighbors=7..............................................\n",
      "[CV 1/5; 8/19] END ...............n_neighbors=7;, score=0.878 total time=   0.4s\n",
      "[CV 2/5; 8/19] START n_neighbors=7..............................................\n",
      "[CV 2/5; 8/19] END ...............n_neighbors=7;, score=0.880 total time=   0.3s\n",
      "[CV 3/5; 8/19] START n_neighbors=7..............................................\n",
      "[CV 3/5; 8/19] END ...............n_neighbors=7;, score=0.880 total time=   0.4s\n",
      "[CV 4/5; 8/19] START n_neighbors=7..............................................\n",
      "[CV 4/5; 8/19] END ...............n_neighbors=7;, score=0.878 total time=   0.4s\n",
      "[CV 5/5; 8/19] START n_neighbors=7..............................................\n",
      "[CV 5/5; 8/19] END ...............n_neighbors=7;, score=0.875 total time=   0.4s\n",
      "[CV 1/5; 9/19] START n_neighbors=8..............................................\n",
      "[CV 1/5; 9/19] END ...............n_neighbors=8;, score=0.878 total time=   0.4s\n",
      "[CV 2/5; 9/19] START n_neighbors=8..............................................\n",
      "[CV 2/5; 9/19] END ...............n_neighbors=8;, score=0.883 total time=   0.4s\n",
      "[CV 3/5; 9/19] START n_neighbors=8..............................................\n",
      "[CV 3/5; 9/19] END ...............n_neighbors=8;, score=0.885 total time=   0.4s\n",
      "[CV 4/5; 9/19] START n_neighbors=8..............................................\n",
      "[CV 4/5; 9/19] END ...............n_neighbors=8;, score=0.882 total time=   0.4s\n",
      "[CV 5/5; 9/19] START n_neighbors=8..............................................\n",
      "[CV 5/5; 9/19] END ...............n_neighbors=8;, score=0.881 total time=   0.4s\n",
      "[CV 1/5; 10/19] START n_neighbors=9.............................................\n",
      "[CV 1/5; 10/19] END ..............n_neighbors=9;, score=0.880 total time=   3.0s\n",
      "[CV 2/5; 10/19] START n_neighbors=9.............................................\n",
      "[CV 2/5; 10/19] END ..............n_neighbors=9;, score=0.880 total time=   1.0s\n",
      "[CV 3/5; 10/19] START n_neighbors=9.............................................\n",
      "[CV 3/5; 10/19] END ..............n_neighbors=9;, score=0.886 total time=   0.4s\n",
      "[CV 4/5; 10/19] START n_neighbors=9.............................................\n",
      "[CV 4/5; 10/19] END ..............n_neighbors=9;, score=0.881 total time=   0.5s\n",
      "[CV 5/5; 10/19] START n_neighbors=9.............................................\n",
      "[CV 5/5; 10/19] END ..............n_neighbors=9;, score=0.879 total time=   0.4s\n",
      "[CV 1/5; 11/19] START n_neighbors=10............................................\n",
      "[CV 1/5; 11/19] END .............n_neighbors=10;, score=0.881 total time=   0.6s\n",
      "[CV 2/5; 11/19] START n_neighbors=10............................................\n",
      "[CV 2/5; 11/19] END .............n_neighbors=10;, score=0.883 total time=   0.5s\n",
      "[CV 3/5; 11/19] START n_neighbors=10............................................\n",
      "[CV 3/5; 11/19] END .............n_neighbors=10;, score=0.890 total time=   0.5s\n",
      "[CV 4/5; 11/19] START n_neighbors=10............................................\n",
      "[CV 4/5; 11/19] END .............n_neighbors=10;, score=0.885 total time=   0.5s\n",
      "[CV 5/5; 11/19] START n_neighbors=10............................................\n",
      "[CV 5/5; 11/19] END .............n_neighbors=10;, score=0.880 total time=   0.6s\n",
      "[CV 1/5; 12/19] START n_neighbors=12............................................\n",
      "[CV 1/5; 12/19] END .............n_neighbors=12;, score=0.885 total time=   0.6s\n",
      "[CV 2/5; 12/19] START n_neighbors=12............................................\n",
      "[CV 2/5; 12/19] END .............n_neighbors=12;, score=0.884 total time=   0.6s\n",
      "[CV 3/5; 12/19] START n_neighbors=12............................................\n",
      "[CV 3/5; 12/19] END .............n_neighbors=12;, score=0.888 total time=   1.7s\n",
      "[CV 4/5; 12/19] START n_neighbors=12............................................\n",
      "[CV 4/5; 12/19] END .............n_neighbors=12;, score=0.882 total time=   2.0s\n",
      "[CV 5/5; 12/19] START n_neighbors=12............................................\n",
      "[CV 5/5; 12/19] END .............n_neighbors=12;, score=0.882 total time=   0.6s\n",
      "[CV 1/5; 13/19] START leaf_size=2...............................................\n",
      "[CV 1/5; 13/19] END ................leaf_size=2;, score=0.873 total time=   0.5s\n",
      "[CV 2/5; 13/19] START leaf_size=2...............................................\n",
      "[CV 2/5; 13/19] END ................leaf_size=2;, score=0.877 total time=   0.5s\n",
      "[CV 3/5; 13/19] START leaf_size=2...............................................\n",
      "[CV 3/5; 13/19] END ................leaf_size=2;, score=0.880 total time=   0.6s\n",
      "[CV 4/5; 13/19] START leaf_size=2...............................................\n",
      "[CV 4/5; 13/19] END ................leaf_size=2;, score=0.879 total time=   0.4s\n",
      "[CV 5/5; 13/19] START leaf_size=2...............................................\n",
      "[CV 5/5; 13/19] END ................leaf_size=2;, score=0.874 total time=   0.4s\n",
      "[CV 1/5; 14/19] START leaf_size=4...............................................\n",
      "[CV 1/5; 14/19] END ................leaf_size=4;, score=0.873 total time=   0.5s\n",
      "[CV 2/5; 14/19] START leaf_size=4...............................................\n",
      "[CV 2/5; 14/19] END ................leaf_size=4;, score=0.877 total time=   0.5s\n",
      "[CV 3/5; 14/19] START leaf_size=4...............................................\n",
      "[CV 3/5; 14/19] END ................leaf_size=4;, score=0.880 total time=   0.4s\n",
      "[CV 4/5; 14/19] START leaf_size=4...............................................\n",
      "[CV 4/5; 14/19] END ................leaf_size=4;, score=0.879 total time=   0.4s\n",
      "[CV 5/5; 14/19] START leaf_size=4...............................................\n",
      "[CV 5/5; 14/19] END ................leaf_size=4;, score=0.874 total time=   0.4s\n",
      "[CV 1/5; 15/19] START leaf_size=6...............................................\n",
      "[CV 1/5; 15/19] END ................leaf_size=6;, score=0.873 total time=   0.4s\n",
      "[CV 2/5; 15/19] START leaf_size=6...............................................\n",
      "[CV 2/5; 15/19] END ................leaf_size=6;, score=0.877 total time=   0.5s\n",
      "[CV 3/5; 15/19] START leaf_size=6...............................................\n",
      "[CV 3/5; 15/19] END ................leaf_size=6;, score=0.880 total time=   0.5s\n",
      "[CV 4/5; 15/19] START leaf_size=6...............................................\n",
      "[CV 4/5; 15/19] END ................leaf_size=6;, score=0.879 total time=   1.5s\n",
      "[CV 5/5; 15/19] START leaf_size=6...............................................\n",
      "[CV 5/5; 15/19] END ................leaf_size=6;, score=0.874 total time=   2.1s\n",
      "[CV 1/5; 16/19] START leaf_size=8...............................................\n",
      "[CV 1/5; 16/19] END ................leaf_size=8;, score=0.873 total time=   0.5s\n",
      "[CV 2/5; 16/19] START leaf_size=8...............................................\n",
      "[CV 2/5; 16/19] END ................leaf_size=8;, score=0.877 total time=   0.6s\n",
      "[CV 3/5; 16/19] START leaf_size=8...............................................\n",
      "[CV 3/5; 16/19] END ................leaf_size=8;, score=0.880 total time=   0.5s\n",
      "[CV 4/5; 16/19] START leaf_size=8...............................................\n",
      "[CV 4/5; 16/19] END ................leaf_size=8;, score=0.879 total time=   0.5s\n",
      "[CV 5/5; 16/19] START leaf_size=8...............................................\n",
      "[CV 5/5; 16/19] END ................leaf_size=8;, score=0.874 total time=   0.6s\n",
      "[CV 1/5; 17/19] START leaf_size=9...............................................\n",
      "[CV 1/5; 17/19] END ................leaf_size=9;, score=0.873 total time=   0.5s\n",
      "[CV 2/5; 17/19] START leaf_size=9...............................................\n",
      "[CV 2/5; 17/19] END ................leaf_size=9;, score=0.877 total time=   0.5s\n",
      "[CV 3/5; 17/19] START leaf_size=9...............................................\n",
      "[CV 3/5; 17/19] END ................leaf_size=9;, score=0.880 total time=   0.6s\n",
      "[CV 4/5; 17/19] START leaf_size=9...............................................\n",
      "[CV 4/5; 17/19] END ................leaf_size=9;, score=0.879 total time=   0.5s\n",
      "[CV 5/5; 17/19] START leaf_size=9...............................................\n",
      "[CV 5/5; 17/19] END ................leaf_size=9;, score=0.874 total time=   0.5s\n",
      "[CV 1/5; 18/19] START leaf_size=10..............................................\n",
      "[CV 1/5; 18/19] END ...............leaf_size=10;, score=0.873 total time=   0.4s\n",
      "[CV 2/5; 18/19] START leaf_size=10..............................................\n",
      "[CV 2/5; 18/19] END ...............leaf_size=10;, score=0.877 total time=   0.5s\n",
      "[CV 3/5; 18/19] START leaf_size=10..............................................\n",
      "[CV 3/5; 18/19] END ...............leaf_size=10;, score=0.880 total time=   0.9s\n",
      "[CV 4/5; 18/19] START leaf_size=10..............................................\n",
      "[CV 4/5; 18/19] END ...............leaf_size=10;, score=0.879 total time=   3.4s\n",
      "[CV 5/5; 18/19] START leaf_size=10..............................................\n",
      "[CV 5/5; 18/19] END ...............leaf_size=10;, score=0.874 total time=   0.9s\n",
      "[CV 1/5; 19/19] START leaf_size=5...............................................\n",
      "[CV 1/5; 19/19] END ................leaf_size=5;, score=0.873 total time=   0.6s\n",
      "[CV 2/5; 19/19] START leaf_size=5...............................................\n",
      "[CV 2/5; 19/19] END ................leaf_size=5;, score=0.877 total time=   0.6s\n",
      "[CV 3/5; 19/19] START leaf_size=5...............................................\n",
      "[CV 3/5; 19/19] END ................leaf_size=5;, score=0.880 total time=   0.6s\n",
      "[CV 4/5; 19/19] START leaf_size=5...............................................\n",
      "[CV 4/5; 19/19] END ................leaf_size=5;, score=0.879 total time=   0.7s\n",
      "[CV 5/5; 19/19] START leaf_size=5...............................................\n",
      "[CV 5/5; 19/19] END ................leaf_size=5;, score=0.874 total time=   0.7s\n"
     ]
    },
    {
     "data": {
      "text/html": [
       "<style>#sk-container-id-3 {color: black;background-color: white;}#sk-container-id-3 pre{padding: 0;}#sk-container-id-3 div.sk-toggleable {background-color: white;}#sk-container-id-3 label.sk-toggleable__label {cursor: pointer;display: block;width: 100%;margin-bottom: 0;padding: 0.3em;box-sizing: border-box;text-align: center;}#sk-container-id-3 label.sk-toggleable__label-arrow:before {content: \"▸\";float: left;margin-right: 0.25em;color: #696969;}#sk-container-id-3 label.sk-toggleable__label-arrow:hover:before {color: black;}#sk-container-id-3 div.sk-estimator:hover label.sk-toggleable__label-arrow:before {color: black;}#sk-container-id-3 div.sk-toggleable__content {max-height: 0;max-width: 0;overflow: hidden;text-align: left;background-color: #f0f8ff;}#sk-container-id-3 div.sk-toggleable__content pre {margin: 0.2em;color: black;border-radius: 0.25em;background-color: #f0f8ff;}#sk-container-id-3 input.sk-toggleable__control:checked~div.sk-toggleable__content {max-height: 200px;max-width: 100%;overflow: auto;}#sk-container-id-3 input.sk-toggleable__control:checked~label.sk-toggleable__label-arrow:before {content: \"▾\";}#sk-container-id-3 div.sk-estimator input.sk-toggleable__control:checked~label.sk-toggleable__label {background-color: #d4ebff;}#sk-container-id-3 div.sk-label input.sk-toggleable__control:checked~label.sk-toggleable__label {background-color: #d4ebff;}#sk-container-id-3 input.sk-hidden--visually {border: 0;clip: rect(1px 1px 1px 1px);clip: rect(1px, 1px, 1px, 1px);height: 1px;margin: -1px;overflow: hidden;padding: 0;position: absolute;width: 1px;}#sk-container-id-3 div.sk-estimator {font-family: monospace;background-color: #f0f8ff;border: 1px dotted black;border-radius: 0.25em;box-sizing: border-box;margin-bottom: 0.5em;}#sk-container-id-3 div.sk-estimator:hover {background-color: #d4ebff;}#sk-container-id-3 div.sk-parallel-item::after {content: \"\";width: 100%;border-bottom: 1px solid gray;flex-grow: 1;}#sk-container-id-3 div.sk-label:hover label.sk-toggleable__label {background-color: #d4ebff;}#sk-container-id-3 div.sk-serial::before {content: \"\";position: absolute;border-left: 1px solid gray;box-sizing: border-box;top: 0;bottom: 0;left: 50%;z-index: 0;}#sk-container-id-3 div.sk-serial {display: flex;flex-direction: column;align-items: center;background-color: white;padding-right: 0.2em;padding-left: 0.2em;position: relative;}#sk-container-id-3 div.sk-item {position: relative;z-index: 1;}#sk-container-id-3 div.sk-parallel {display: flex;align-items: stretch;justify-content: center;background-color: white;position: relative;}#sk-container-id-3 div.sk-item::before, #sk-container-id-3 div.sk-parallel-item::before {content: \"\";position: absolute;border-left: 1px solid gray;box-sizing: border-box;top: 0;bottom: 0;left: 50%;z-index: -1;}#sk-container-id-3 div.sk-parallel-item {display: flex;flex-direction: column;z-index: 1;position: relative;background-color: white;}#sk-container-id-3 div.sk-parallel-item:first-child::after {align-self: flex-end;width: 50%;}#sk-container-id-3 div.sk-parallel-item:last-child::after {align-self: flex-start;width: 50%;}#sk-container-id-3 div.sk-parallel-item:only-child::after {width: 0;}#sk-container-id-3 div.sk-dashed-wrapped {border: 1px dashed gray;margin: 0 0.4em 0.5em 0.4em;box-sizing: border-box;padding-bottom: 0.4em;background-color: white;}#sk-container-id-3 div.sk-label label {font-family: monospace;font-weight: bold;display: inline-block;line-height: 1.2em;}#sk-container-id-3 div.sk-label-container {text-align: center;}#sk-container-id-3 div.sk-container {/* jupyter's `normalize.less` sets `[hidden] { display: none; }` but bootstrap.min.css set `[hidden] { display: none !important; }` so we also need the `!important` here to be able to override the default hidden behavior on the sphinx rendered scikit-learn.org. See: https://github.com/scikit-learn/scikit-learn/issues/21755 */display: inline-block !important;position: relative;}#sk-container-id-3 div.sk-text-repr-fallback {display: none;}</style><div id=\"sk-container-id-3\" class=\"sk-top-container\"><div class=\"sk-text-repr-fallback\"><pre>GridSearchCV(cv=5, estimator=KNeighborsClassifier(),\n",
       "             param_grid=[{&#x27;n_neighbors&#x27;: [1, 2, 3, 4, 5, 5, 6, 7, 8, 9, 10,\n",
       "                                          12]},\n",
       "                         {&#x27;leaf_size&#x27;: [2, 4, 6, 8, 9, 10, 5]}],\n",
       "             verbose=10)</pre><b>In a Jupyter environment, please rerun this cell to show the HTML representation or trust the notebook. <br />On GitHub, the HTML representation is unable to render, please try loading this page with nbviewer.org.</b></div><div class=\"sk-container\" hidden><div class=\"sk-item sk-dashed-wrapped\"><div class=\"sk-label-container\"><div class=\"sk-label sk-toggleable\"><input class=\"sk-toggleable__control sk-hidden--visually\" id=\"sk-estimator-id-7\" type=\"checkbox\" ><label for=\"sk-estimator-id-7\" class=\"sk-toggleable__label sk-toggleable__label-arrow\">GridSearchCV</label><div class=\"sk-toggleable__content\"><pre>GridSearchCV(cv=5, estimator=KNeighborsClassifier(),\n",
       "             param_grid=[{&#x27;n_neighbors&#x27;: [1, 2, 3, 4, 5, 5, 6, 7, 8, 9, 10,\n",
       "                                          12]},\n",
       "                         {&#x27;leaf_size&#x27;: [2, 4, 6, 8, 9, 10, 5]}],\n",
       "             verbose=10)</pre></div></div></div><div class=\"sk-parallel\"><div class=\"sk-parallel-item\"><div class=\"sk-item\"><div class=\"sk-label-container\"><div class=\"sk-label sk-toggleable\"><input class=\"sk-toggleable__control sk-hidden--visually\" id=\"sk-estimator-id-8\" type=\"checkbox\" ><label for=\"sk-estimator-id-8\" class=\"sk-toggleable__label sk-toggleable__label-arrow\">estimator: KNeighborsClassifier</label><div class=\"sk-toggleable__content\"><pre>KNeighborsClassifier()</pre></div></div></div><div class=\"sk-serial\"><div class=\"sk-item\"><div class=\"sk-estimator sk-toggleable\"><input class=\"sk-toggleable__control sk-hidden--visually\" id=\"sk-estimator-id-9\" type=\"checkbox\" ><label for=\"sk-estimator-id-9\" class=\"sk-toggleable__label sk-toggleable__label-arrow\">KNeighborsClassifier</label><div class=\"sk-toggleable__content\"><pre>KNeighborsClassifier()</pre></div></div></div></div></div></div></div></div></div></div>"
      ],
      "text/plain": [
       "GridSearchCV(cv=5, estimator=KNeighborsClassifier(),\n",
       "             param_grid=[{'n_neighbors': [1, 2, 3, 4, 5, 5, 6, 7, 8, 9, 10,\n",
       "                                          12]},\n",
       "                         {'leaf_size': [2, 4, 6, 8, 9, 10, 5]}],\n",
       "             verbose=10)"
      ]
     },
     "execution_count": 24,
     "metadata": {},
     "output_type": "execute_result"
    }
   ],
   "source": [
    "## parameter du grid\n",
    "params=[\n",
    "    {'n_neighbors':[1,2,3,4,5,5,6,7,8,9,10,12]},\n",
    "    {'leaf_size':[2, 4, 6, 8, 9, 10, 5]}\n",
    "]\n",
    "# initiation\n",
    "model_knn=KNeighborsClassifier()\n",
    "test_model = GridSearchCV(model_knn,params,cv=5,verbose=10)\n",
    "test_model.fit(X_Train,y_Train)"
   ]
  },
  {
   "cell_type": "code",
   "execution_count": 26,
   "metadata": {},
   "outputs": [
    {
     "name": "stdout",
     "output_type": "stream",
     "text": [
      "KNeighborsClassifier(n_neighbors=12)\n",
      "{'n_neighbors': 12}\n",
      "0.8841811299878033\n"
     ]
    }
   ],
   "source": [
    "print(test_model.best_estimator_)\n",
    "print(test_model.best_params_)\n",
    "print(test_model.best_score_)"
   ]
  },
  {
   "cell_type": "markdown",
   "metadata": {},
   "source": [
    "## Implementation de la methode Arbre de decision"
   ]
  },
  {
   "cell_type": "code",
   "execution_count": 32,
   "metadata": {},
   "outputs": [
    {
     "data": {
      "text/plain": [
       "array([0, 1, 1, ..., 0, 0, 1])"
      ]
     },
     "execution_count": 32,
     "metadata": {},
     "output_type": "execute_result"
    }
   ],
   "source": [
    "# arbre de decision \n",
    "# instanciation du modele\n",
    "from sklearn.tree import DecisionTreeClassifier\n",
    "model_dtc= DecisionTreeClassifier()\n",
    "# fitting\n",
    "model_dtc.fit(X_Train, y_Train)\n",
    "# prediction\n",
    "pred_dtc = model_dtc.predict(X_Val)\n",
    "pred_dtc"
   ]
  },
  {
   "cell_type": "code",
   "execution_count": 33,
   "metadata": {},
   "outputs": [
    {
     "name": "stdout",
     "output_type": "stream",
     "text": [
      "Fitting 15 folds for each of 7 candidates, totalling 105 fits\n",
      "[CV 1/15; 1/7] START max_depth=2................................................\n",
      "[CV 1/15; 1/7] END .................max_depth=2;, score=0.876 total time=   0.0s\n",
      "[CV 2/15; 1/7] START max_depth=2................................................\n",
      "[CV 2/15; 1/7] END .................max_depth=2;, score=0.878 total time=   0.0s\n",
      "[CV 3/15; 1/7] START max_depth=2................................................\n",
      "[CV 3/15; 1/7] END .................max_depth=2;, score=0.877 total time=   0.0s\n",
      "[CV 4/15; 1/7] START max_depth=2................................................\n",
      "[CV 4/15; 1/7] END .................max_depth=2;, score=0.878 total time=   0.0s\n",
      "[CV 5/15; 1/7] START max_depth=2................................................\n",
      "[CV 5/15; 1/7] END .................max_depth=2;, score=0.880 total time=   0.0s\n",
      "[CV 6/15; 1/7] START max_depth=2................................................\n",
      "[CV 6/15; 1/7] END .................max_depth=2;, score=0.877 total time=   0.0s\n",
      "[CV 7/15; 1/7] START max_depth=2................................................\n",
      "[CV 7/15; 1/7] END .................max_depth=2;, score=0.872 total time=   0.0s\n",
      "[CV 8/15; 1/7] START max_depth=2................................................\n",
      "[CV 8/15; 1/7] END .................max_depth=2;, score=0.873 total time=   0.0s\n",
      "[CV 9/15; 1/7] START max_depth=2................................................\n",
      "[CV 9/15; 1/7] END .................max_depth=2;, score=0.875 total time=   0.0s\n",
      "[CV 10/15; 1/7] START max_depth=2...............................................\n",
      "[CV 10/15; 1/7] END ................max_depth=2;, score=0.877 total time=   0.0s\n",
      "[CV 11/15; 1/7] START max_depth=2...............................................\n",
      "[CV 11/15; 1/7] END ................max_depth=2;, score=0.881 total time=   0.0s\n",
      "[CV 12/15; 1/7] START max_depth=2...............................................\n",
      "[CV 12/15; 1/7] END ................max_depth=2;, score=0.879 total time=   0.0s\n",
      "[CV 13/15; 1/7] START max_depth=2...............................................\n",
      "[CV 13/15; 1/7] END ................max_depth=2;, score=0.872 total time=   0.0s\n",
      "[CV 14/15; 1/7] START max_depth=2...............................................\n",
      "[CV 14/15; 1/7] END ................max_depth=2;, score=0.877 total time=   0.0s\n",
      "[CV 15/15; 1/7] START max_depth=2...............................................\n",
      "[CV 15/15; 1/7] END ................max_depth=2;, score=0.877 total time=   0.0s\n",
      "[CV 1/15; 2/7] START max_depth=4................................................\n",
      "[CV 1/15; 2/7] END .................max_depth=4;, score=0.878 total time=   0.0s\n",
      "[CV 2/15; 2/7] START max_depth=4................................................\n",
      "[CV 2/15; 2/7] END .................max_depth=4;, score=0.880 total time=   0.0s\n",
      "[CV 3/15; 2/7] START max_depth=4................................................\n",
      "[CV 3/15; 2/7] END .................max_depth=4;, score=0.877 total time=   0.0s\n",
      "[CV 4/15; 2/7] START max_depth=4................................................\n",
      "[CV 4/15; 2/7] END .................max_depth=4;, score=0.880 total time=   0.0s\n",
      "[CV 5/15; 2/7] START max_depth=4................................................\n",
      "[CV 5/15; 2/7] END .................max_depth=4;, score=0.882 total time=   0.0s\n",
      "[CV 6/15; 2/7] START max_depth=4................................................\n",
      "[CV 6/15; 2/7] END .................max_depth=4;, score=0.880 total time=   0.0s\n",
      "[CV 7/15; 2/7] START max_depth=4................................................\n",
      "[CV 7/15; 2/7] END .................max_depth=4;, score=0.877 total time=   0.0s\n",
      "[CV 8/15; 2/7] START max_depth=4................................................\n",
      "[CV 8/15; 2/7] END .................max_depth=4;, score=0.876 total time=   0.0s\n",
      "[CV 9/15; 2/7] START max_depth=4................................................\n",
      "[CV 9/15; 2/7] END .................max_depth=4;, score=0.877 total time=   0.1s\n",
      "[CV 10/15; 2/7] START max_depth=4...............................................\n",
      "[CV 10/15; 2/7] END ................max_depth=4;, score=0.876 total time=   0.0s\n",
      "[CV 11/15; 2/7] START max_depth=4...............................................\n",
      "[CV 11/15; 2/7] END ................max_depth=4;, score=0.884 total time=   0.0s\n",
      "[CV 12/15; 2/7] START max_depth=4...............................................\n",
      "[CV 12/15; 2/7] END ................max_depth=4;, score=0.881 total time=   0.0s\n",
      "[CV 13/15; 2/7] START max_depth=4...............................................\n",
      "[CV 13/15; 2/7] END ................max_depth=4;, score=0.875 total time=   0.0s\n",
      "[CV 14/15; 2/7] START max_depth=4...............................................\n",
      "[CV 14/15; 2/7] END ................max_depth=4;, score=0.880 total time=   0.0s\n",
      "[CV 15/15; 2/7] START max_depth=4...............................................\n",
      "[CV 15/15; 2/7] END ................max_depth=4;, score=0.881 total time=   0.0s\n",
      "[CV 1/15; 3/7] START max_depth=6................................................\n",
      "[CV 1/15; 3/7] END .................max_depth=6;, score=0.870 total time=   0.0s\n",
      "[CV 2/15; 3/7] START max_depth=6................................................\n",
      "[CV 2/15; 3/7] END .................max_depth=6;, score=0.888 total time=   0.1s\n",
      "[CV 3/15; 3/7] START max_depth=6................................................\n",
      "[CV 3/15; 3/7] END .................max_depth=6;, score=0.879 total time=   0.0s\n",
      "[CV 4/15; 3/7] START max_depth=6................................................\n",
      "[CV 4/15; 3/7] END .................max_depth=6;, score=0.887 total time=   0.0s\n",
      "[CV 5/15; 3/7] START max_depth=6................................................\n",
      "[CV 5/15; 3/7] END .................max_depth=6;, score=0.884 total time=   0.0s\n",
      "[CV 6/15; 3/7] START max_depth=6................................................\n",
      "[CV 6/15; 3/7] END .................max_depth=6;, score=0.873 total time=   0.0s\n",
      "[CV 7/15; 3/7] START max_depth=6................................................\n",
      "[CV 7/15; 3/7] END .................max_depth=6;, score=0.877 total time=   0.0s\n",
      "[CV 8/15; 3/7] START max_depth=6................................................\n",
      "[CV 8/15; 3/7] END .................max_depth=6;, score=0.883 total time=   0.1s\n",
      "[CV 9/15; 3/7] START max_depth=6................................................\n",
      "[CV 9/15; 3/7] END .................max_depth=6;, score=0.880 total time=   0.1s\n",
      "[CV 10/15; 3/7] START max_depth=6...............................................\n",
      "[CV 10/15; 3/7] END ................max_depth=6;, score=0.885 total time=   0.1s\n",
      "[CV 11/15; 3/7] START max_depth=6...............................................\n",
      "[CV 11/15; 3/7] END ................max_depth=6;, score=0.875 total time=   0.0s\n",
      "[CV 12/15; 3/7] START max_depth=6...............................................\n",
      "[CV 12/15; 3/7] END ................max_depth=6;, score=0.876 total time=   0.0s\n",
      "[CV 13/15; 3/7] START max_depth=6...............................................\n",
      "[CV 13/15; 3/7] END ................max_depth=6;, score=0.877 total time=   0.0s\n",
      "[CV 14/15; 3/7] START max_depth=6...............................................\n",
      "[CV 14/15; 3/7] END ................max_depth=6;, score=0.879 total time=   0.0s\n",
      "[CV 15/15; 3/7] START max_depth=6...............................................\n",
      "[CV 15/15; 3/7] END ................max_depth=6;, score=0.881 total time=   0.0s\n",
      "[CV 1/15; 4/7] START max_depth=8................................................\n",
      "[CV 1/15; 4/7] END .................max_depth=8;, score=0.880 total time=   0.0s\n",
      "[CV 2/15; 4/7] START max_depth=8................................................\n",
      "[CV 2/15; 4/7] END .................max_depth=8;, score=0.887 total time=   0.0s\n",
      "[CV 3/15; 4/7] START max_depth=8................................................\n",
      "[CV 3/15; 4/7] END .................max_depth=8;, score=0.885 total time=   0.0s\n",
      "[CV 4/15; 4/7] START max_depth=8................................................\n",
      "[CV 4/15; 4/7] END .................max_depth=8;, score=0.881 total time=   0.0s\n",
      "[CV 5/15; 4/7] START max_depth=8................................................\n",
      "[CV 5/15; 4/7] END .................max_depth=8;, score=0.887 total time=   0.0s\n",
      "[CV 6/15; 4/7] START max_depth=8................................................\n",
      "[CV 6/15; 4/7] END .................max_depth=8;, score=0.880 total time=   0.0s\n",
      "[CV 7/15; 4/7] START max_depth=8................................................\n",
      "[CV 7/15; 4/7] END .................max_depth=8;, score=0.879 total time=   0.0s\n",
      "[CV 8/15; 4/7] START max_depth=8................................................\n",
      "[CV 8/15; 4/7] END .................max_depth=8;, score=0.887 total time=   0.0s\n",
      "[CV 9/15; 4/7] START max_depth=8................................................\n",
      "[CV 9/15; 4/7] END .................max_depth=8;, score=0.885 total time=   0.0s\n",
      "[CV 10/15; 4/7] START max_depth=8...............................................\n",
      "[CV 10/15; 4/7] END ................max_depth=8;, score=0.889 total time=   0.1s\n",
      "[CV 11/15; 4/7] START max_depth=8...............................................\n",
      "[CV 11/15; 4/7] END ................max_depth=8;, score=0.880 total time=   0.0s\n",
      "[CV 12/15; 4/7] START max_depth=8...............................................\n",
      "[CV 12/15; 4/7] END ................max_depth=8;, score=0.882 total time=   0.0s\n",
      "[CV 13/15; 4/7] START max_depth=8...............................................\n",
      "[CV 13/15; 4/7] END ................max_depth=8;, score=0.877 total time=   0.0s\n",
      "[CV 14/15; 4/7] START max_depth=8...............................................\n",
      "[CV 14/15; 4/7] END ................max_depth=8;, score=0.886 total time=   0.0s\n",
      "[CV 15/15; 4/7] START max_depth=8...............................................\n",
      "[CV 15/15; 4/7] END ................max_depth=8;, score=0.883 total time=   0.0s\n",
      "[CV 1/15; 5/7] START max_depth=9................................................\n",
      "[CV 1/15; 5/7] END .................max_depth=9;, score=0.873 total time=   0.0s\n",
      "[CV 2/15; 5/7] START max_depth=9................................................\n",
      "[CV 2/15; 5/7] END .................max_depth=9;, score=0.882 total time=   0.0s\n",
      "[CV 3/15; 5/7] START max_depth=9................................................\n",
      "[CV 3/15; 5/7] END .................max_depth=9;, score=0.883 total time=   0.0s\n",
      "[CV 4/15; 5/7] START max_depth=9................................................\n",
      "[CV 4/15; 5/7] END .................max_depth=9;, score=0.879 total time=   0.0s\n",
      "[CV 5/15; 5/7] START max_depth=9................................................\n",
      "[CV 5/15; 5/7] END .................max_depth=9;, score=0.882 total time=   0.0s\n",
      "[CV 6/15; 5/7] START max_depth=9................................................\n",
      "[CV 6/15; 5/7] END .................max_depth=9;, score=0.874 total time=   0.0s\n",
      "[CV 7/15; 5/7] START max_depth=9................................................\n",
      "[CV 7/15; 5/7] END .................max_depth=9;, score=0.878 total time=   0.1s\n",
      "[CV 8/15; 5/7] START max_depth=9................................................\n",
      "[CV 8/15; 5/7] END .................max_depth=9;, score=0.882 total time=   0.1s\n",
      "[CV 9/15; 5/7] START max_depth=9................................................\n",
      "[CV 9/15; 5/7] END .................max_depth=9;, score=0.883 total time=   0.1s\n",
      "[CV 10/15; 5/7] START max_depth=9...............................................\n",
      "[CV 10/15; 5/7] END ................max_depth=9;, score=0.889 total time=   0.1s\n",
      "[CV 11/15; 5/7] START max_depth=9...............................................\n",
      "[CV 11/15; 5/7] END ................max_depth=9;, score=0.880 total time=   0.1s\n",
      "[CV 12/15; 5/7] START max_depth=9...............................................\n",
      "[CV 12/15; 5/7] END ................max_depth=9;, score=0.875 total time=   0.0s\n",
      "[CV 13/15; 5/7] START max_depth=9...............................................\n",
      "[CV 13/15; 5/7] END ................max_depth=9;, score=0.875 total time=   0.0s\n",
      "[CV 14/15; 5/7] START max_depth=9...............................................\n",
      "[CV 14/15; 5/7] END ................max_depth=9;, score=0.884 total time=   0.0s\n",
      "[CV 15/15; 5/7] START max_depth=9...............................................\n",
      "[CV 15/15; 5/7] END ................max_depth=9;, score=0.885 total time=   0.0s\n",
      "[CV 1/15; 6/7] START max_depth=10...............................................\n",
      "[CV 1/15; 6/7] END ................max_depth=10;, score=0.873 total time=   0.0s\n",
      "[CV 2/15; 6/7] START max_depth=10...............................................\n",
      "[CV 2/15; 6/7] END ................max_depth=10;, score=0.883 total time=   0.0s\n",
      "[CV 3/15; 6/7] START max_depth=10...............................................\n",
      "[CV 3/15; 6/7] END ................max_depth=10;, score=0.880 total time=   0.0s\n",
      "[CV 4/15; 6/7] START max_depth=10...............................................\n",
      "[CV 4/15; 6/7] END ................max_depth=10;, score=0.884 total time=   0.0s\n",
      "[CV 5/15; 6/7] START max_depth=10...............................................\n",
      "[CV 5/15; 6/7] END ................max_depth=10;, score=0.883 total time=   0.0s\n",
      "[CV 6/15; 6/7] START max_depth=10...............................................\n",
      "[CV 6/15; 6/7] END ................max_depth=10;, score=0.877 total time=   0.0s\n",
      "[CV 7/15; 6/7] START max_depth=10...............................................\n",
      "[CV 7/15; 6/7] END ................max_depth=10;, score=0.883 total time=   0.0s\n",
      "[CV 8/15; 6/7] START max_depth=10...............................................\n",
      "[CV 8/15; 6/7] END ................max_depth=10;, score=0.881 total time=   0.0s\n",
      "[CV 9/15; 6/7] START max_depth=10...............................................\n",
      "[CV 9/15; 6/7] END ................max_depth=10;, score=0.878 total time=   0.0s\n",
      "[CV 10/15; 6/7] START max_depth=10..............................................\n",
      "[CV 10/15; 6/7] END ...............max_depth=10;, score=0.888 total time=   0.0s\n",
      "[CV 11/15; 6/7] START max_depth=10..............................................\n",
      "[CV 11/15; 6/7] END ...............max_depth=10;, score=0.878 total time=   0.0s\n",
      "[CV 12/15; 6/7] START max_depth=10..............................................\n",
      "[CV 12/15; 6/7] END ...............max_depth=10;, score=0.870 total time=   0.0s\n",
      "[CV 13/15; 6/7] START max_depth=10..............................................\n",
      "[CV 13/15; 6/7] END ...............max_depth=10;, score=0.865 total time=   0.0s\n",
      "[CV 14/15; 6/7] START max_depth=10..............................................\n",
      "[CV 14/15; 6/7] END ...............max_depth=10;, score=0.884 total time=   0.0s\n",
      "[CV 15/15; 6/7] START max_depth=10..............................................\n",
      "[CV 15/15; 6/7] END ...............max_depth=10;, score=0.882 total time=   0.0s\n",
      "[CV 1/15; 7/7] START max_depth=5................................................\n",
      "[CV 1/15; 7/7] END .................max_depth=5;, score=0.877 total time=   0.0s\n",
      "[CV 2/15; 7/7] START max_depth=5................................................\n",
      "[CV 2/15; 7/7] END .................max_depth=5;, score=0.879 total time=   0.0s\n",
      "[CV 3/15; 7/7] START max_depth=5................................................\n",
      "[CV 3/15; 7/7] END .................max_depth=5;, score=0.875 total time=   0.0s\n",
      "[CV 4/15; 7/7] START max_depth=5................................................\n",
      "[CV 4/15; 7/7] END .................max_depth=5;, score=0.875 total time=   0.0s\n",
      "[CV 5/15; 7/7] START max_depth=5................................................\n",
      "[CV 5/15; 7/7] END .................max_depth=5;, score=0.887 total time=   0.0s\n",
      "[CV 6/15; 7/7] START max_depth=5................................................\n",
      "[CV 6/15; 7/7] END .................max_depth=5;, score=0.879 total time=   0.0s\n",
      "[CV 7/15; 7/7] START max_depth=5................................................\n",
      "[CV 7/15; 7/7] END .................max_depth=5;, score=0.880 total time=   0.0s\n",
      "[CV 8/15; 7/7] START max_depth=5................................................\n",
      "[CV 8/15; 7/7] END .................max_depth=5;, score=0.877 total time=   0.0s\n",
      "[CV 9/15; 7/7] START max_depth=5................................................\n",
      "[CV 9/15; 7/7] END .................max_depth=5;, score=0.876 total time=   0.0s\n",
      "[CV 10/15; 7/7] START max_depth=5...............................................\n",
      "[CV 10/15; 7/7] END ................max_depth=5;, score=0.877 total time=   0.0s\n",
      "[CV 11/15; 7/7] START max_depth=5...............................................\n",
      "[CV 11/15; 7/7] END ................max_depth=5;, score=0.883 total time=   0.0s\n",
      "[CV 12/15; 7/7] START max_depth=5...............................................\n",
      "[CV 12/15; 7/7] END ................max_depth=5;, score=0.881 total time=   0.0s\n",
      "[CV 13/15; 7/7] START max_depth=5...............................................\n",
      "[CV 13/15; 7/7] END ................max_depth=5;, score=0.876 total time=   0.0s\n",
      "[CV 14/15; 7/7] START max_depth=5...............................................\n",
      "[CV 14/15; 7/7] END ................max_depth=5;, score=0.877 total time=   0.0s\n",
      "[CV 15/15; 7/7] START max_depth=5...............................................\n",
      "[CV 15/15; 7/7] END ................max_depth=5;, score=0.877 total time=   0.0s\n"
     ]
    },
    {
     "data": {
      "text/html": [
       "<style>#sk-container-id-4 {color: black;background-color: white;}#sk-container-id-4 pre{padding: 0;}#sk-container-id-4 div.sk-toggleable {background-color: white;}#sk-container-id-4 label.sk-toggleable__label {cursor: pointer;display: block;width: 100%;margin-bottom: 0;padding: 0.3em;box-sizing: border-box;text-align: center;}#sk-container-id-4 label.sk-toggleable__label-arrow:before {content: \"▸\";float: left;margin-right: 0.25em;color: #696969;}#sk-container-id-4 label.sk-toggleable__label-arrow:hover:before {color: black;}#sk-container-id-4 div.sk-estimator:hover label.sk-toggleable__label-arrow:before {color: black;}#sk-container-id-4 div.sk-toggleable__content {max-height: 0;max-width: 0;overflow: hidden;text-align: left;background-color: #f0f8ff;}#sk-container-id-4 div.sk-toggleable__content pre {margin: 0.2em;color: black;border-radius: 0.25em;background-color: #f0f8ff;}#sk-container-id-4 input.sk-toggleable__control:checked~div.sk-toggleable__content {max-height: 200px;max-width: 100%;overflow: auto;}#sk-container-id-4 input.sk-toggleable__control:checked~label.sk-toggleable__label-arrow:before {content: \"▾\";}#sk-container-id-4 div.sk-estimator input.sk-toggleable__control:checked~label.sk-toggleable__label {background-color: #d4ebff;}#sk-container-id-4 div.sk-label input.sk-toggleable__control:checked~label.sk-toggleable__label {background-color: #d4ebff;}#sk-container-id-4 input.sk-hidden--visually {border: 0;clip: rect(1px 1px 1px 1px);clip: rect(1px, 1px, 1px, 1px);height: 1px;margin: -1px;overflow: hidden;padding: 0;position: absolute;width: 1px;}#sk-container-id-4 div.sk-estimator {font-family: monospace;background-color: #f0f8ff;border: 1px dotted black;border-radius: 0.25em;box-sizing: border-box;margin-bottom: 0.5em;}#sk-container-id-4 div.sk-estimator:hover {background-color: #d4ebff;}#sk-container-id-4 div.sk-parallel-item::after {content: \"\";width: 100%;border-bottom: 1px solid gray;flex-grow: 1;}#sk-container-id-4 div.sk-label:hover label.sk-toggleable__label {background-color: #d4ebff;}#sk-container-id-4 div.sk-serial::before {content: \"\";position: absolute;border-left: 1px solid gray;box-sizing: border-box;top: 0;bottom: 0;left: 50%;z-index: 0;}#sk-container-id-4 div.sk-serial {display: flex;flex-direction: column;align-items: center;background-color: white;padding-right: 0.2em;padding-left: 0.2em;position: relative;}#sk-container-id-4 div.sk-item {position: relative;z-index: 1;}#sk-container-id-4 div.sk-parallel {display: flex;align-items: stretch;justify-content: center;background-color: white;position: relative;}#sk-container-id-4 div.sk-item::before, #sk-container-id-4 div.sk-parallel-item::before {content: \"\";position: absolute;border-left: 1px solid gray;box-sizing: border-box;top: 0;bottom: 0;left: 50%;z-index: -1;}#sk-container-id-4 div.sk-parallel-item {display: flex;flex-direction: column;z-index: 1;position: relative;background-color: white;}#sk-container-id-4 div.sk-parallel-item:first-child::after {align-self: flex-end;width: 50%;}#sk-container-id-4 div.sk-parallel-item:last-child::after {align-self: flex-start;width: 50%;}#sk-container-id-4 div.sk-parallel-item:only-child::after {width: 0;}#sk-container-id-4 div.sk-dashed-wrapped {border: 1px dashed gray;margin: 0 0.4em 0.5em 0.4em;box-sizing: border-box;padding-bottom: 0.4em;background-color: white;}#sk-container-id-4 div.sk-label label {font-family: monospace;font-weight: bold;display: inline-block;line-height: 1.2em;}#sk-container-id-4 div.sk-label-container {text-align: center;}#sk-container-id-4 div.sk-container {/* jupyter's `normalize.less` sets `[hidden] { display: none; }` but bootstrap.min.css set `[hidden] { display: none !important; }` so we also need the `!important` here to be able to override the default hidden behavior on the sphinx rendered scikit-learn.org. See: https://github.com/scikit-learn/scikit-learn/issues/21755 */display: inline-block !important;position: relative;}#sk-container-id-4 div.sk-text-repr-fallback {display: none;}</style><div id=\"sk-container-id-4\" class=\"sk-top-container\"><div class=\"sk-text-repr-fallback\"><pre>GridSearchCV(cv=15, estimator=DecisionTreeClassifier(),\n",
       "             param_grid=[{&#x27;max_depth&#x27;: [2, 4, 6, 8, 9, 10, 5]}], verbose=10)</pre><b>In a Jupyter environment, please rerun this cell to show the HTML representation or trust the notebook. <br />On GitHub, the HTML representation is unable to render, please try loading this page with nbviewer.org.</b></div><div class=\"sk-container\" hidden><div class=\"sk-item sk-dashed-wrapped\"><div class=\"sk-label-container\"><div class=\"sk-label sk-toggleable\"><input class=\"sk-toggleable__control sk-hidden--visually\" id=\"sk-estimator-id-10\" type=\"checkbox\" ><label for=\"sk-estimator-id-10\" class=\"sk-toggleable__label sk-toggleable__label-arrow\">GridSearchCV</label><div class=\"sk-toggleable__content\"><pre>GridSearchCV(cv=15, estimator=DecisionTreeClassifier(),\n",
       "             param_grid=[{&#x27;max_depth&#x27;: [2, 4, 6, 8, 9, 10, 5]}], verbose=10)</pre></div></div></div><div class=\"sk-parallel\"><div class=\"sk-parallel-item\"><div class=\"sk-item\"><div class=\"sk-label-container\"><div class=\"sk-label sk-toggleable\"><input class=\"sk-toggleable__control sk-hidden--visually\" id=\"sk-estimator-id-11\" type=\"checkbox\" ><label for=\"sk-estimator-id-11\" class=\"sk-toggleable__label sk-toggleable__label-arrow\">estimator: DecisionTreeClassifier</label><div class=\"sk-toggleable__content\"><pre>DecisionTreeClassifier()</pre></div></div></div><div class=\"sk-serial\"><div class=\"sk-item\"><div class=\"sk-estimator sk-toggleable\"><input class=\"sk-toggleable__control sk-hidden--visually\" id=\"sk-estimator-id-12\" type=\"checkbox\" ><label for=\"sk-estimator-id-12\" class=\"sk-toggleable__label sk-toggleable__label-arrow\">DecisionTreeClassifier</label><div class=\"sk-toggleable__content\"><pre>DecisionTreeClassifier()</pre></div></div></div></div></div></div></div></div></div></div>"
      ],
      "text/plain": [
       "GridSearchCV(cv=15, estimator=DecisionTreeClassifier(),\n",
       "             param_grid=[{'max_depth': [2, 4, 6, 8, 9, 10, 5]}], verbose=10)"
      ]
     },
     "execution_count": 33,
     "metadata": {},
     "output_type": "execute_result"
    }
   ],
   "source": [
    "## parameter du grid\n",
    "params=[\n",
    "     \n",
    "    {'max_depth':[2, 4, 6, 8, 9, 10, 5]}\n",
    "]\n",
    "# instanciation\n",
    "opt_dtc = GridSearchCV(model_dtc, params, cv=15, verbose=10)\n",
    "opt_dtc.fit(X_Train, y_Train)"
   ]
  },
  {
   "cell_type": "code",
   "execution_count": 34,
   "metadata": {},
   "outputs": [
    {
     "name": "stdout",
     "output_type": "stream",
     "text": [
      "DecisionTreeClassifier(max_depth=8)\n",
      "{'max_depth': 8}\n",
      "0.8831892475752033\n"
     ]
    }
   ],
   "source": [
    "print(opt_dtc.best_estimator_)\n",
    "print(opt_dtc.best_params_)\n",
    "print(opt_dtc.best_score_)"
   ]
  },
  {
   "cell_type": "markdown",
   "metadata": {},
   "source": [
    "## Implementation de la methode LDA"
   ]
  },
  {
   "cell_type": "code",
   "execution_count": 29,
   "metadata": {},
   "outputs": [
    {
     "data": {
      "text/plain": [
       "array([0, 0, 0, ..., 0, 0, 1])"
      ]
     },
     "execution_count": 29,
     "metadata": {},
     "output_type": "execute_result"
    }
   ],
   "source": [
    "# INSTANCIATION\n",
    "lda = LinearDiscriminantAnalysis()\n",
    "# fitting\n",
    "lda.fit(X_Train,y_Train)\n",
    "# prediction\n",
    "pred = lda.predict(X_Val)\n",
    "pred"
   ]
  },
  {
   "cell_type": "code",
   "execution_count": 20,
   "metadata": {},
   "outputs": [
    {
     "data": {
      "text/plain": [
       "0.8835529111772206"
      ]
     },
     "execution_count": 20,
     "metadata": {},
     "output_type": "execute_result"
    }
   ],
   "source": [
    "acc = accuracy_score(y_val, pred)\n",
    "acc"
   ]
  },
  {
   "cell_type": "code",
   "execution_count": 21,
   "metadata": {},
   "outputs": [
    {
     "name": "stdout",
     "output_type": "stream",
     "text": [
      "Fitting 5 folds for each of 10 candidates, totalling 50 fits\n",
      "[CV 1/5] END ........................solver=svd;, score=0.878 total time=   0.0s\n",
      "[CV 2/5] END ........................solver=svd;, score=0.877 total time=   0.0s\n",
      "[CV 3/5] END ........................solver=svd;, score=0.885 total time=   0.0s\n",
      "[CV 4/5] END ........................solver=svd;, score=0.883 total time=   0.0s\n",
      "[CV 5/5] END ........................solver=svd;, score=0.877 total time=   0.0s\n",
      "[CV 1/5] END .......................solver=lsqr;, score=0.880 total time=   0.2s\n",
      "[CV 2/5] END .......................solver=lsqr;, score=0.877 total time=   0.0s\n",
      "[CV 3/5] END .......................solver=lsqr;, score=0.884 total time=   0.0s\n",
      "[CV 4/5] END .......................solver=lsqr;, score=0.877 total time=   0.0s\n",
      "[CV 5/5] END .......................solver=lsqr;, score=0.872 total time=   0.0s\n",
      "[CV 1/5] END ........................solver=eigen;, score=nan total time=   0.5s\n",
      "[CV 2/5] END ........................solver=eigen;, score=nan total time=   0.0s\n",
      "[CV 3/5] END ........................solver=eigen;, score=nan total time=   0.0s\n",
      "[CV 4/5] END ........................solver=eigen;, score=nan total time=   0.0s\n",
      "[CV 5/5] END ........................solver=eigen;, score=nan total time=   0.0s\n",
      "[CV 1/5] END .........................shrinkage=2;, score=nan total time=   0.0s\n",
      "[CV 2/5] END .........................shrinkage=2;, score=nan total time=   0.0s\n",
      "[CV 3/5] END .........................shrinkage=2;, score=nan total time=   0.0s\n",
      "[CV 4/5] END .........................shrinkage=2;, score=nan total time=   0.0s\n",
      "[CV 5/5] END .........................shrinkage=2;, score=nan total time=   0.0s\n",
      "[CV 1/5] END .........................shrinkage=4;, score=nan total time=   0.0s\n",
      "[CV 2/5] END .........................shrinkage=4;, score=nan total time=   0.0s\n",
      "[CV 3/5] END .........................shrinkage=4;, score=nan total time=   0.0s\n",
      "[CV 4/5] END .........................shrinkage=4;, score=nan total time=   0.0s\n",
      "[CV 5/5] END .........................shrinkage=4;, score=nan total time=   0.0s\n",
      "[CV 1/5] END .........................shrinkage=6;, score=nan total time=   0.0s\n",
      "[CV 2/5] END .........................shrinkage=6;, score=nan total time=   0.0s\n",
      "[CV 3/5] END .........................shrinkage=6;, score=nan total time=   0.0s\n",
      "[CV 4/5] END .........................shrinkage=6;, score=nan total time=   0.0s\n",
      "[CV 5/5] END .........................shrinkage=6;, score=nan total time=   0.0s\n",
      "[CV 1/5] END .........................shrinkage=8;, score=nan total time=   0.0s\n",
      "[CV 2/5] END .........................shrinkage=8;, score=nan total time=   0.0s\n",
      "[CV 3/5] END .........................shrinkage=8;, score=nan total time=   0.0s\n",
      "[CV 4/5] END .........................shrinkage=8;, score=nan total time=   0.0s\n",
      "[CV 5/5] END .........................shrinkage=8;, score=nan total time=   0.0s\n",
      "[CV 1/5] END .........................shrinkage=9;, score=nan total time=   0.0s\n",
      "[CV 2/5] END .........................shrinkage=9;, score=nan total time=   0.0s\n",
      "[CV 3/5] END .........................shrinkage=9;, score=nan total time=   0.0s\n",
      "[CV 4/5] END .........................shrinkage=9;, score=nan total time=   0.0s\n",
      "[CV 5/5] END .........................shrinkage=9;, score=nan total time=   0.0s\n",
      "[CV 1/5] END ........................shrinkage=10;, score=nan total time=   0.0s\n",
      "[CV 2/5] END ........................shrinkage=10;, score=nan total time=   0.0s\n",
      "[CV 3/5] END ........................shrinkage=10;, score=nan total time=   0.0s\n",
      "[CV 4/5] END ........................shrinkage=10;, score=nan total time=   0.0s\n",
      "[CV 5/5] END ........................shrinkage=10;, score=nan total time=   0.0s\n",
      "[CV 1/5] END .........................shrinkage=5;, score=nan total time=   0.0s\n",
      "[CV 2/5] END .........................shrinkage=5;, score=nan total time=   0.0s\n",
      "[CV 3/5] END .........................shrinkage=5;, score=nan total time=   0.0s\n",
      "[CV 4/5] END .........................shrinkage=5;, score=nan total time=   0.0s\n",
      "[CV 5/5] END .........................shrinkage=5;, score=nan total time=   0.0s\n"
     ]
    },
    {
     "name": "stderr",
     "output_type": "stream",
     "text": [
      "c:\\Python\\Python310\\lib\\site-packages\\sklearn\\model_selection\\_validation.py:378: FitFailedWarning: \n",
      "40 fits failed out of a total of 50.\n",
      "The score on these train-test partitions for these parameters will be set to nan.\n",
      "If these failures are not expected, you can try to debug them by setting error_score='raise'.\n",
      "\n",
      "Below are more details about the failures:\n",
      "--------------------------------------------------------------------------------\n",
      "3 fits failed with the following error:\n",
      "Traceback (most recent call last):\n",
      "  File \"c:\\Python\\Python310\\lib\\site-packages\\sklearn\\model_selection\\_validation.py\", line 686, in _fit_and_score\n",
      "    estimator.fit(X_train, y_train, **fit_params)\n",
      "  File \"c:\\Python\\Python310\\lib\\site-packages\\sklearn\\discriminant_analysis.py\", line 605, in fit\n",
      "    self._solve_eigen(\n",
      "  File \"c:\\Python\\Python310\\lib\\site-packages\\sklearn\\discriminant_analysis.py\", line 445, in _solve_eigen\n",
      "    evals, evecs = linalg.eigh(Sb, Sw)\n",
      "  File \"c:\\Python\\Python310\\lib\\site-packages\\scipy\\linalg\\_decomp.py\", line 580, in eigh\n",
      "    raise LinAlgError('The leading minor of order {} of B is not '\n",
      "numpy.linalg.LinAlgError: The leading minor of order 17 of B is not positive definite. The factorization of B could not be completed and no eigenvalues or eigenvectors were computed.\n",
      "\n",
      "--------------------------------------------------------------------------------\n",
      "1 fits failed with the following error:\n",
      "Traceback (most recent call last):\n",
      "  File \"c:\\Python\\Python310\\lib\\site-packages\\sklearn\\model_selection\\_validation.py\", line 686, in _fit_and_score\n",
      "    estimator.fit(X_train, y_train, **fit_params)\n",
      "  File \"c:\\Python\\Python310\\lib\\site-packages\\sklearn\\discriminant_analysis.py\", line 605, in fit\n",
      "    self._solve_eigen(\n",
      "  File \"c:\\Python\\Python310\\lib\\site-packages\\sklearn\\discriminant_analysis.py\", line 445, in _solve_eigen\n",
      "    evals, evecs = linalg.eigh(Sb, Sw)\n",
      "  File \"c:\\Python\\Python310\\lib\\site-packages\\scipy\\linalg\\_decomp.py\", line 580, in eigh\n",
      "    raise LinAlgError('The leading minor of order {} of B is not '\n",
      "numpy.linalg.LinAlgError: The leading minor of order 12 of B is not positive definite. The factorization of B could not be completed and no eigenvalues or eigenvectors were computed.\n",
      "\n",
      "--------------------------------------------------------------------------------\n",
      "1 fits failed with the following error:\n",
      "Traceback (most recent call last):\n",
      "  File \"c:\\Python\\Python310\\lib\\site-packages\\sklearn\\model_selection\\_validation.py\", line 686, in _fit_and_score\n",
      "    estimator.fit(X_train, y_train, **fit_params)\n",
      "  File \"c:\\Python\\Python310\\lib\\site-packages\\sklearn\\discriminant_analysis.py\", line 605, in fit\n",
      "    self._solve_eigen(\n",
      "  File \"c:\\Python\\Python310\\lib\\site-packages\\sklearn\\discriminant_analysis.py\", line 445, in _solve_eigen\n",
      "    evals, evecs = linalg.eigh(Sb, Sw)\n",
      "  File \"c:\\Python\\Python310\\lib\\site-packages\\scipy\\linalg\\_decomp.py\", line 580, in eigh\n",
      "    raise LinAlgError('The leading minor of order {} of B is not '\n",
      "numpy.linalg.LinAlgError: The leading minor of order 33 of B is not positive definite. The factorization of B could not be completed and no eigenvalues or eigenvectors were computed.\n",
      "\n",
      "--------------------------------------------------------------------------------\n",
      "35 fits failed with the following error:\n",
      "Traceback (most recent call last):\n",
      "  File \"c:\\Python\\Python310\\lib\\site-packages\\sklearn\\model_selection\\_validation.py\", line 686, in _fit_and_score\n",
      "    estimator.fit(X_train, y_train, **fit_params)\n",
      "  File \"c:\\Python\\Python310\\lib\\site-packages\\sklearn\\discriminant_analysis.py\", line 589, in fit\n",
      "    raise NotImplementedError(\"shrinkage not supported\")\n",
      "NotImplementedError: shrinkage not supported\n",
      "\n",
      "  warnings.warn(some_fits_failed_message, FitFailedWarning)\n",
      "c:\\Python\\Python310\\lib\\site-packages\\sklearn\\model_selection\\_search.py:953: UserWarning: One or more of the test scores are non-finite: [0.8799302  0.87804064        nan        nan        nan        nan\n",
      "        nan        nan        nan        nan]\n",
      "  warnings.warn(\n"
     ]
    },
    {
     "data": {
      "text/html": [
       "<style>#sk-container-id-2 {color: black;background-color: white;}#sk-container-id-2 pre{padding: 0;}#sk-container-id-2 div.sk-toggleable {background-color: white;}#sk-container-id-2 label.sk-toggleable__label {cursor: pointer;display: block;width: 100%;margin-bottom: 0;padding: 0.3em;box-sizing: border-box;text-align: center;}#sk-container-id-2 label.sk-toggleable__label-arrow:before {content: \"▸\";float: left;margin-right: 0.25em;color: #696969;}#sk-container-id-2 label.sk-toggleable__label-arrow:hover:before {color: black;}#sk-container-id-2 div.sk-estimator:hover label.sk-toggleable__label-arrow:before {color: black;}#sk-container-id-2 div.sk-toggleable__content {max-height: 0;max-width: 0;overflow: hidden;text-align: left;background-color: #f0f8ff;}#sk-container-id-2 div.sk-toggleable__content pre {margin: 0.2em;color: black;border-radius: 0.25em;background-color: #f0f8ff;}#sk-container-id-2 input.sk-toggleable__control:checked~div.sk-toggleable__content {max-height: 200px;max-width: 100%;overflow: auto;}#sk-container-id-2 input.sk-toggleable__control:checked~label.sk-toggleable__label-arrow:before {content: \"▾\";}#sk-container-id-2 div.sk-estimator input.sk-toggleable__control:checked~label.sk-toggleable__label {background-color: #d4ebff;}#sk-container-id-2 div.sk-label input.sk-toggleable__control:checked~label.sk-toggleable__label {background-color: #d4ebff;}#sk-container-id-2 input.sk-hidden--visually {border: 0;clip: rect(1px 1px 1px 1px);clip: rect(1px, 1px, 1px, 1px);height: 1px;margin: -1px;overflow: hidden;padding: 0;position: absolute;width: 1px;}#sk-container-id-2 div.sk-estimator {font-family: monospace;background-color: #f0f8ff;border: 1px dotted black;border-radius: 0.25em;box-sizing: border-box;margin-bottom: 0.5em;}#sk-container-id-2 div.sk-estimator:hover {background-color: #d4ebff;}#sk-container-id-2 div.sk-parallel-item::after {content: \"\";width: 100%;border-bottom: 1px solid gray;flex-grow: 1;}#sk-container-id-2 div.sk-label:hover label.sk-toggleable__label {background-color: #d4ebff;}#sk-container-id-2 div.sk-serial::before {content: \"\";position: absolute;border-left: 1px solid gray;box-sizing: border-box;top: 0;bottom: 0;left: 50%;z-index: 0;}#sk-container-id-2 div.sk-serial {display: flex;flex-direction: column;align-items: center;background-color: white;padding-right: 0.2em;padding-left: 0.2em;position: relative;}#sk-container-id-2 div.sk-item {position: relative;z-index: 1;}#sk-container-id-2 div.sk-parallel {display: flex;align-items: stretch;justify-content: center;background-color: white;position: relative;}#sk-container-id-2 div.sk-item::before, #sk-container-id-2 div.sk-parallel-item::before {content: \"\";position: absolute;border-left: 1px solid gray;box-sizing: border-box;top: 0;bottom: 0;left: 50%;z-index: -1;}#sk-container-id-2 div.sk-parallel-item {display: flex;flex-direction: column;z-index: 1;position: relative;background-color: white;}#sk-container-id-2 div.sk-parallel-item:first-child::after {align-self: flex-end;width: 50%;}#sk-container-id-2 div.sk-parallel-item:last-child::after {align-self: flex-start;width: 50%;}#sk-container-id-2 div.sk-parallel-item:only-child::after {width: 0;}#sk-container-id-2 div.sk-dashed-wrapped {border: 1px dashed gray;margin: 0 0.4em 0.5em 0.4em;box-sizing: border-box;padding-bottom: 0.4em;background-color: white;}#sk-container-id-2 div.sk-label label {font-family: monospace;font-weight: bold;display: inline-block;line-height: 1.2em;}#sk-container-id-2 div.sk-label-container {text-align: center;}#sk-container-id-2 div.sk-container {/* jupyter's `normalize.less` sets `[hidden] { display: none; }` but bootstrap.min.css set `[hidden] { display: none !important; }` so we also need the `!important` here to be able to override the default hidden behavior on the sphinx rendered scikit-learn.org. See: https://github.com/scikit-learn/scikit-learn/issues/21755 */display: inline-block !important;position: relative;}#sk-container-id-2 div.sk-text-repr-fallback {display: none;}</style><div id=\"sk-container-id-2\" class=\"sk-top-container\"><div class=\"sk-text-repr-fallback\"><pre>GridSearchCV(cv=5, estimator=LinearDiscriminantAnalysis(),\n",
       "             param_grid=[{&#x27;solver&#x27;: [&#x27;svd&#x27;, &#x27;lsqr&#x27;, &#x27;eigen&#x27;]},\n",
       "                         {&#x27;shrinkage&#x27;: [2, 4, 6, 8, 9, 10, 5]}],\n",
       "             verbose=4)</pre><b>In a Jupyter environment, please rerun this cell to show the HTML representation or trust the notebook. <br />On GitHub, the HTML representation is unable to render, please try loading this page with nbviewer.org.</b></div><div class=\"sk-container\" hidden><div class=\"sk-item sk-dashed-wrapped\"><div class=\"sk-label-container\"><div class=\"sk-label sk-toggleable\"><input class=\"sk-toggleable__control sk-hidden--visually\" id=\"sk-estimator-id-4\" type=\"checkbox\" ><label for=\"sk-estimator-id-4\" class=\"sk-toggleable__label sk-toggleable__label-arrow\">GridSearchCV</label><div class=\"sk-toggleable__content\"><pre>GridSearchCV(cv=5, estimator=LinearDiscriminantAnalysis(),\n",
       "             param_grid=[{&#x27;solver&#x27;: [&#x27;svd&#x27;, &#x27;lsqr&#x27;, &#x27;eigen&#x27;]},\n",
       "                         {&#x27;shrinkage&#x27;: [2, 4, 6, 8, 9, 10, 5]}],\n",
       "             verbose=4)</pre></div></div></div><div class=\"sk-parallel\"><div class=\"sk-parallel-item\"><div class=\"sk-item\"><div class=\"sk-label-container\"><div class=\"sk-label sk-toggleable\"><input class=\"sk-toggleable__control sk-hidden--visually\" id=\"sk-estimator-id-5\" type=\"checkbox\" ><label for=\"sk-estimator-id-5\" class=\"sk-toggleable__label sk-toggleable__label-arrow\">estimator: LinearDiscriminantAnalysis</label><div class=\"sk-toggleable__content\"><pre>LinearDiscriminantAnalysis()</pre></div></div></div><div class=\"sk-serial\"><div class=\"sk-item\"><div class=\"sk-estimator sk-toggleable\"><input class=\"sk-toggleable__control sk-hidden--visually\" id=\"sk-estimator-id-6\" type=\"checkbox\" ><label for=\"sk-estimator-id-6\" class=\"sk-toggleable__label sk-toggleable__label-arrow\">LinearDiscriminantAnalysis</label><div class=\"sk-toggleable__content\"><pre>LinearDiscriminantAnalysis()</pre></div></div></div></div></div></div></div></div></div></div>"
      ],
      "text/plain": [
       "GridSearchCV(cv=5, estimator=LinearDiscriminantAnalysis(),\n",
       "             param_grid=[{'solver': ['svd', 'lsqr', 'eigen']},\n",
       "                         {'shrinkage': [2, 4, 6, 8, 9, 10, 5]}],\n",
       "             verbose=4)"
      ]
     },
     "execution_count": 21,
     "metadata": {},
     "output_type": "execute_result"
    }
   ],
   "source": [
    "## parameter du grid\n",
    "params=[\n",
    "     {'solver':['svd', 'lsqr', 'eigen' ] },\n",
    "    {'shrinkage':[2, 4, 6, 8, 9, 10, 5]}\n",
    "]\n",
    "opt_lr=GridSearchCV(lda,params,cv=5,verbose=4)\n",
    "opt_lr.fit(X_Train,y_Train)"
   ]
  },
  {
   "cell_type": "code",
   "execution_count": 22,
   "metadata": {},
   "outputs": [
    {
     "name": "stdout",
     "output_type": "stream",
     "text": [
      "LinearDiscriminantAnalysis()\n",
      "{'solver': 'svd'}\n",
      "0.8799301990576092\n"
     ]
    }
   ],
   "source": [
    "print(opt_lr.best_estimator_)\n",
    "print(opt_lr.best_params_)\n",
    "print(opt_lr.best_score_)"
   ]
  },
  {
   "cell_type": "markdown",
   "metadata": {},
   "source": [
    "##### comparons ce modele avec les autres modele"
   ]
  },
  {
   "cell_type": "markdown",
   "metadata": {},
   "source": [
    "### LDA\n",
    "LinearDiscriminantAnalysis()\n",
    "{'solver': 'svd'}\n",
    "SCORE : 0.8799301990576092\n",
    "\n",
    "### REGRESSION LOGISTIC\n",
    "LogisticRegression()\n",
    "{'intercept_scaling': 1}\n",
    "SCORE : 0.8843230853399617\n",
    "\n",
    "### KNN\n",
    "KNeighborsClassifier(n_neighbors=12)\n",
    "{'n_neighbors': 12}\n",
    "SCORE : 0.8841811299878033\n",
    "### ARBRE DE DECISION\n",
    "DecisionTreeClassifier(max_depth=8)\n",
    "{'max_depth': 8}\n",
    "SCORE : 0.8831892475752033\n",
    "\n",
    "D'apres les resultats optenu, nous pouvons dire les modules classiques ont un score plus élevé que le modéle LDA, c'est à dire ces modéles sont plus éfficaces que le modéle LDA qui ont un score de 0.88 par compte celui de LDA qui a un score de 0.87 \n",
    "D'aprés les résultats que nous avons étudier pour faire la prediction des personnes susceptible d'avoir ou pas un compte banquaire\n",
    "\n"
   ]
  }
 ],
 "metadata": {
  "kernelspec": {
   "display_name": "Python 3.10.5 64-bit",
   "language": "python",
   "name": "python3"
  },
  "language_info": {
   "codemirror_mode": {
    "name": "ipython",
    "version": 3
   },
   "file_extension": ".py",
   "mimetype": "text/x-python",
   "name": "python",
   "nbconvert_exporter": "python",
   "pygments_lexer": "ipython3",
   "version": "3.10.5"
  },
  "orig_nbformat": 4,
  "vscode": {
   "interpreter": {
    "hash": "d3e10ef16274dd72e574b8fa73b58450b957d8421a2901baded3cca26fcf5dda"
   }
  }
 },
 "nbformat": 4,
 "nbformat_minor": 2
}
